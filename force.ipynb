{
 "cells": [
  {
   "cell_type": "markdown",
   "metadata": {},
   "source": [
    "## Model simuleren: Krachtenbalans"
   ]
  },
  {
   "cell_type": "markdown",
   "metadata": {},
   "source": [
    "$$\\frac{dx1}{dt}= x2$$\n",
    "\n",
    "$$\\frac{dx2}{dt}= -\\frac{b}{m}x2 -\\frac{k}{m}x1 + Fex$$"
   ]
  },
  {
   "cell_type": "code",
   "execution_count": null,
   "metadata": {
    "collapsed": true
   },
   "outputs": [],
   "source": [
    "%matplotlib inline"
   ]
  },
  {
   "cell_type": "code",
   "execution_count": null,
   "metadata": {
    "collapsed": false
   },
   "outputs": [],
   "source": [
    "# Importeren van functionaliteiten\n",
    "import matplotlib.pyplot as plt\n",
    "#import seaborn as sns\n",
    "import numpy as np\n",
    "import scipy as sp\n",
    "import pandas as pd\n",
    "import math\n",
    "from IPython.display import Image\n",
    "from ipywidgets import interact, fixed, FloatSlider\n",
    "%load_ext autoreload\n",
    "%autoreload 1"
   ]
  },
  {
   "cell_type": "code",
   "execution_count": null,
   "metadata": {
    "collapsed": false
   },
   "outputs": [],
   "source": [
    "import sys\n",
    "import os\n",
    "sys.path.append(\"functions\")\n",
    "%aimport general_functions\n",
    "%aimport force"
   ]
  },
  {
   "cell_type": "code",
   "execution_count": null,
   "metadata": {
    "collapsed": true
   },
   "outputs": [],
   "source": [
    "functie_afgeleiden = force.model_afgeleiden"
   ]
  },
  {
   "cell_type": "markdown",
   "metadata": {},
   "source": [
    "## Model simuleren"
   ]
  },
  {
   "cell_type": "code",
   "execution_count": null,
   "metadata": {
    "collapsed": false
   },
   "outputs": [],
   "source": [
    "df, _ = general_functions.model(\n",
    "    np.arange(0, 50, 0.1), # tijdstappen\n",
    "    [-1, 0], # initiële condities\n",
    "    ['x1','x2'], # namen variabelen\n",
    "    functie_afgeleiden, # naam functie afgeleiden\n",
    "    returnDataFrame=True, plotresults=True,\n",
    "    # vanaf hier: functie specifieke parameters\n",
    "    b=0.2, m=1, k=0.3, Fex=0.)"
   ]
  },
  {
   "cell_type": "markdown",
   "metadata": {},
   "source": [
    "$$\\frac{dx1}{dt}= x2$$\n",
    "\n",
    "$$\\frac{dx2}{dt}= -\\frac{b}{m}x2 -\\frac{k}{m}x1 + Fex$$"
   ]
  },
  {
   "cell_type": "markdown",
   "metadata": {},
   "source": [
    "## Impact initiële conditie en input"
   ]
  },
  {
   "cell_type": "code",
   "execution_count": null,
   "metadata": {
    "collapsed": true
   },
   "outputs": [],
   "source": [
    "def interactive_model(x1, x2):\n",
    "    general_functions.model(\n",
    "        np.arange(0, 50, 0.1), # tijdstappen\n",
    "        [x1, x2], # initiële condities\n",
    "        ['x1','x2'], # namen variabelen\n",
    "        functie_afgeleiden, # naam functie afgeleiden\n",
    "        returnDataFrame=True, plotresults=True,\n",
    "        # vanaf hier: functie specifieke parameters\n",
    "        b=0.2, m=1, k=0.3, Fex=0.)"
   ]
  },
  {
   "cell_type": "code",
   "execution_count": null,
   "metadata": {
    "collapsed": false
   },
   "outputs": [],
   "source": [
    "interact(interactive_model,\n",
    "         x1=FloatSlider(value=-5, min=-10, max=10, step=1, description='x1', continuous_update=False),\n",
    "         x2=FloatSlider(value=-5, min=-10, max=10, step=1, description='x1', continuous_update=False))"
   ]
  },
  {
   "cell_type": "markdown",
   "metadata": {},
   "source": [
    "$$\\frac{dx1}{dt}= x2$$\n",
    "\n",
    "$$\\frac{dx2}{dt}= -\\frac{b}{m}x2 -\\frac{k}{m}x1 + Fex$$"
   ]
  },
  {
   "cell_type": "markdown",
   "metadata": {},
   "source": [
    "## Impact parameters"
   ]
  },
  {
   "cell_type": "code",
   "execution_count": null,
   "metadata": {
    "collapsed": false
   },
   "outputs": [],
   "source": [
    "interact(general_functions.model,\n",
    "         tijdstappen=fixed(np.arange(0., 50, 0.1)),\n",
    "         init=fixed([-1, 0]), varnames=fixed(['x1','x2']),\n",
    "         f=fixed(functie_afgeleiden),\n",
    "         returnDataFrame=fixed(False), plotresults=fixed(True),\n",
    "         b=FloatSlider(value=0.1, min=0., max=0.5, step=0.01, name='b', continuous_update=False),\n",
    "         m=FloatSlider(value=2, min=0., max=5., step=0.1, name='m', continuous_update=False),\n",
    "         k=FloatSlider(value=0.5, min=0., max=1., step=0.1, name='k', continuous_update=False),\n",
    "         Fex=fixed(0))"
   ]
  },
  {
   "cell_type": "markdown",
   "metadata": {},
   "source": [
    "$$\\frac{dx1}{dt}= x2$$\n",
    "\n",
    "$$\\frac{dx2}{dt}= -\\frac{b}{m}x2 -\\frac{k}{m}x1 + Fex$$"
   ]
  },
  {
   "cell_type": "markdown",
   "metadata": {},
   "source": [
    "# sensitiviteit"
   ]
  },
  {
   "cell_type": "code",
   "execution_count": null,
   "metadata": {
    "collapsed": false
   },
   "outputs": [],
   "source": [
    "df_sens = general_functions.sensitiviteit(\n",
    "    np.arange(0, 50, 0.1), # tijdstappen\n",
    "    [-1, 0], # initiële condities\n",
    "    ['x1','x2'], # namen variabelen\n",
    "    functie_afgeleiden, # naam functie afgeleiden\n",
    "    parameternaam='m',\n",
    "    # vanaf hier: functie specifieke parameters\n",
    "    b=0.2, m=1, k=0.3, Fex=0.)"
   ]
  },
  {
   "cell_type": "code",
   "execution_count": null,
   "metadata": {
    "collapsed": false
   },
   "outputs": [],
   "source": [
    "df_sens.plot()"
   ]
  },
  {
   "cell_type": "code",
   "execution_count": null,
   "metadata": {
    "collapsed": true
   },
   "outputs": [],
   "source": []
  }
 ],
 "metadata": {
  "anaconda-cloud": {},
  "kernelspec": {
   "display_name": "Python [conda env:py35]",
   "language": "python",
   "name": "conda-env-py35-py"
  },
  "language_info": {
   "codemirror_mode": {
    "name": "ipython",
    "version": 3
   },
   "file_extension": ".py",
   "mimetype": "text/x-python",
   "name": "python",
   "nbconvert_exporter": "python",
   "pygments_lexer": "ipython3",
   "version": "3.5.1"
  },
  "widgets": {
   "state": {
    "0ba96d19ccab4d0283f22e4a9f416297": {
     "views": [
      {
       "cell_index": 11
      }
     ]
    },
    "29277269c16a48a7a2ffae5b213c1870": {
     "views": [
      {
       "cell_index": 14
      }
     ]
    },
    "39ac99053ae24488813e82dc7773e997": {
     "views": [
      {
       "cell_index": null
      }
     ]
    },
    "eb2893e2655a47cfb964941953785b51": {
     "views": [
      {
       "cell_index": null
      }
     ]
    }
   },
   "version": "1.2.0"
  }
 },
 "nbformat": 4,
 "nbformat_minor": 1
}
