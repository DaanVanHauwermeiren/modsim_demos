{
 "cells": [
  {
   "cell_type": "markdown",
   "metadata": {},
   "source": [
    "## Model simuleren: nitrobenzeenmodel"
   ]
  },
  {
   "cell_type": "markdown",
   "metadata": {},
   "source": [
    "$$\\frac{d[C6H6]}{dt}= -2k{[C6H6]}^2[N2O5] + \\frac{Q}{V}({[C6H6]}_{in} - [C6H6])$$\n",
    "$$\\frac{d[N2O5]}{dt}= -k{[C6H6]}^2[N2O5] + \\frac{Q}{V}({[N2O5]}_{in} - [N2O5])$$\n",
    "$$\\frac{d[C6H5NO2]}{dt}= 2k{[C6H6]}^2[N2O5] - \\frac{Q}{V}[C6H5NO2] $$"
   ]
  },
  {
   "cell_type": "code",
   "execution_count": null,
   "metadata": {
    "collapsed": true
   },
   "outputs": [],
   "source": [
    "%matplotlib inline"
   ]
  },
  {
   "cell_type": "code",
   "execution_count": null,
   "metadata": {
    "collapsed": true
   },
   "outputs": [],
   "source": [
    "# Importeren van functionaliteiten\n",
    "import matplotlib.pyplot as plt\n",
    "#import seaborn as sns\n",
    "import numpy as np\n",
    "import scipy as sp\n",
    "import pandas as pd\n",
    "import math\n",
    "from IPython.display import Image\n",
    "from ipywidgets import interact, fixed, FloatSlider\n",
    "%load_ext autoreload\n",
    "%autoreload 1"
   ]
  },
  {
   "cell_type": "code",
   "execution_count": null,
   "metadata": {
    "collapsed": true
   },
   "outputs": [],
   "source": [
    "import sys\n",
    "import os\n",
    "sys.path.append(\"functions\")\n",
    "%aimport general_functions\n",
    "%aimport nitrobenzeen"
   ]
  },
  {
   "cell_type": "code",
   "execution_count": null,
   "metadata": {
    "collapsed": true
   },
   "outputs": [],
   "source": [
    "functie_afgeleiden = nitrobenzeen.model_afgeleiden"
   ]
  },
  {
   "cell_type": "markdown",
   "metadata": {},
   "source": [
    "#### Praktische info\n",
    "Functiedefinitie:\n",
    "\n",
    "    nitrobenzeen.nitrobenzeen_model(tijdstappen, C6H6_0, N2O5_0, C6H5NO2_0, k, Q, V, C6H6_in, N2O5_in)\n",
    "\n",
    "Bij de standaard situatie voor onze case werden volgende waarden voor initiele condities, parameters en inputs gebruikt:\n",
    "\n",
    "    nitrobenzeen.nitrobenzeen_model(np.arange(0, 1500, 1), 0.03, 0, 0, 2, 10, 3000, 0, 0.03) "
   ]
  },
  {
   "cell_type": "markdown",
   "metadata": {
    "collapsed": true
   },
   "source": [
    "## Model simuleren"
   ]
  },
  {
   "cell_type": "code",
   "execution_count": null,
   "metadata": {
    "collapsed": false
   },
   "outputs": [],
   "source": [
    "df, _ = general_functions.model(\n",
    "    np.arange(0, 1500, 1), # tijdstappen\n",
    "    [0.03, 0, 0], # initiële condities\n",
    "    ['C6H6','N2O5', 'C6H5NO2'], # namen variabelen\n",
    "    functie_afgeleiden, # naam functie afgeleiden\n",
    "    returnDataFrame=True, plotresults=True,\n",
    "    # vanaf hier: functie specifieke parameters\n",
    "    k=2, Q=10, V=3000, C6H6_in=0, N2O5_in=0.03)"
   ]
  },
  {
   "cell_type": "markdown",
   "metadata": {},
   "source": [
    "$$\\frac{d[C6H6]}{dt}= -2k{[C6H6]}^2[N2O5] + \\frac{Q}{V}({[C6H6]}_{in} - [C6H6])$$\n",
    "$$\\frac{d[N2O5]}{dt}= -k{[C6H6]}^2[N2O5] + \\frac{Q}{V}({[N2O5]}_{in} - [N2O5])$$\n",
    "$$\\frac{d[C6H5NO2]}{dt}= 2k{[C6H6]}^2[N2O5] - \\frac{Q}{V}[C6H5NO2] $$"
   ]
  },
  {
   "cell_type": "markdown",
   "metadata": {},
   "source": [
    "## Impact initiële conditie"
   ]
  },
  {
   "cell_type": "code",
   "execution_count": null,
   "metadata": {
    "collapsed": false
   },
   "outputs": [],
   "source": [
    "def interactive_model(C6H6, N2O5, C6H5NO2):\n",
    "    general_functions.model(\n",
    "        np.arange(0, 1500, 1), # tijdstappen\n",
    "        [C6H6, N2O5, C6H5NO2], # initiële condities\n",
    "        ['C6H6','N2O5', 'C6H5NO2'], # namen variabelen\n",
    "        functie_afgeleiden, # naam functie afgeleiden\n",
    "        returnDataFrame=True, plotresults=True,\n",
    "        # vanaf hier: functie specifieke parameters\n",
    "        k=2, Q=10, V=3000, C6H6_in=0, N2O5_in=0.03)\n",
    "interact(interactive_model,\n",
    "         C6H6=FloatSlider(value=0.1, min=0, max=1, step=0.01, description='C6H6', continuous_update=False),\n",
    "         N2O5=FloatSlider(value=0.1, min=0, max=1, step=0.01, description='N2O5', continuous_update=False),\n",
    "         C6H5NO2=FloatSlider(value=0.1, min=0, max=1, step=0.01, description='C6H5NO2', continuous_update=False))"
   ]
  },
  {
   "cell_type": "markdown",
   "metadata": {},
   "source": [
    "$$\\frac{d[C6H6]}{dt}= -2k{[C6H6]}^2[N2O5] + \\frac{Q}{V}({[C6H6]}_{in} - [C6H6])$$\n",
    "$$\\frac{d[N2O5]}{dt}= -k{[C6H6]}^2[N2O5] + \\frac{Q}{V}({[N2O5]}_{in} - [N2O5])$$\n",
    "$$\\frac{d[C6H5NO2]}{dt}= 2k{[C6H6]}^2[N2O5] - \\frac{Q}{V}[C6H5NO2] $$"
   ]
  },
  {
   "cell_type": "markdown",
   "metadata": {},
   "source": [
    "## Impact inputs"
   ]
  },
  {
   "cell_type": "code",
   "execution_count": null,
   "metadata": {
    "collapsed": false
   },
   "outputs": [],
   "source": [
    "interact(general_functions.model,\n",
    "         tijdstappen=fixed(np.arange(0, 1500, 1)),\n",
    "         init=fixed([0.03, 0, 0]), varnames=fixed(['C6H6','N2O5', 'C6H5NO2']),\n",
    "         f=fixed(functie_afgeleiden),\n",
    "         returnDataFrame=fixed(False), plotresults=fixed(True),\n",
    "         k=fixed(2), Q=fixed(10), V=fixed(3000),\n",
    "         C6H6_in=FloatSlider(value=0.1, min=0., max=1, step=0.1, name='b', continuous_update=False),\n",
    "         N2O5_in=FloatSlider(value=0.03, min=0., max=0.05, step=0.01, name='m', continuous_update=False))"
   ]
  },
  {
   "cell_type": "markdown",
   "metadata": {},
   "source": [
    "$$\\frac{d[C6H6]}{dt}= -2k{[C6H6]}^2[N2O5] + \\frac{Q}{V}({[C6H6]}_{in} - [C6H6])$$\n",
    "$$\\frac{d[N2O5]}{dt}= -k{[C6H6]}^2[N2O5] + \\frac{Q}{V}({[N2O5]}_{in} - [N2O5])$$\n",
    "$$\\frac{d[C6H5NO2]}{dt}= 2k{[C6H6]}^2[N2O5] - \\frac{Q}{V}[C6H5NO2] $$"
   ]
  },
  {
   "cell_type": "markdown",
   "metadata": {},
   "source": [
    "## Impact parameters"
   ]
  },
  {
   "cell_type": "code",
   "execution_count": null,
   "metadata": {
    "collapsed": false
   },
   "outputs": [],
   "source": [
    "interact(general_functions.model,\n",
    "         tijdstappen=fixed(np.arange(0, 1500, 1)),\n",
    "         init=fixed([0.03, 0, 0]), varnames=fixed(['C6H6','N2O5', 'C6H5NO2']),\n",
    "         f=fixed(functie_afgeleiden),\n",
    "         returnDataFrame=fixed(False), plotresults=fixed(True),\n",
    "         C6H6_in=fixed(0), N2O5_in=fixed(0.03),\n",
    "         k=FloatSlider(value=1, min=0., max=10, step=0.1, name='b', continuous_update=False),\n",
    "         Q=FloatSlider(value=10, min=0., max=20, step=1, name='m', continuous_update=False),\n",
    "         V=FloatSlider(value=1500, min=0., max=6000, step=100, name='m', continuous_update=False))"
   ]
  },
  {
   "cell_type": "markdown",
   "metadata": {},
   "source": [
    "$$\\frac{d[C6H6]}{dt}= -2k{[C6H6]}^2[N2O5] + \\frac{Q}{V}({[C6H6]}_{in} - [C6H6])$$\n",
    "$$\\frac{d[N2O5]}{dt}= -k{[C6H6]}^2[N2O5] + \\frac{Q}{V}({[N2O5]}_{in} - [N2O5])$$\n",
    "$$\\frac{d[C6H5NO2]}{dt}= 2k{[C6H6]}^2[N2O5] - \\frac{Q}{V}[C6H5NO2] $$"
   ]
  },
  {
   "cell_type": "markdown",
   "metadata": {},
   "source": [
    "# sensitivity"
   ]
  },
  {
   "cell_type": "code",
   "execution_count": null,
   "metadata": {
    "collapsed": true
   },
   "outputs": [],
   "source": [
    "df_sens = general_functions.sensitiviteit(\n",
    "    np.arange(0, 1500, 1), # tijdstappen\n",
    "    [0.03, 0, 0], # initiële condities\n",
    "    ['C6H6','N2O5', 'C6H5NO2'], # namen variabelen\n",
    "    functie_afgeleiden, # naam functie afgeleiden\n",
    "    parameternaam='N2O5_in',\n",
    "    soort='absoluut', #'relatief parameter' 'relatief variabele' 'relatief totaal'\n",
    "    # vanaf hier: functie specifieke parameters\n",
    "    k=2, Q=10, V=3000, C6H6_in=0, N2O5_in=0.03)\n",
    "df_sens.plot()"
   ]
  }
 ],
 "metadata": {
  "anaconda-cloud": {},
  "kernelspec": {
   "display_name": "Python [conda env:py35]",
   "language": "python",
   "name": "conda-env-py35-py"
  },
  "language_info": {
   "codemirror_mode": {
    "name": "ipython",
    "version": 3
   },
   "file_extension": ".py",
   "mimetype": "text/x-python",
   "name": "python",
   "nbconvert_exporter": "python",
   "pygments_lexer": "ipython3",
   "version": "3.5.1"
  },
  "widgets": {
   "state": {
    "6c23ed3c843e4693b7b5705b8498509e": {
     "views": [
      {
       "cell_index": 13
      }
     ]
    },
    "7a583eef269f4a2e92de019c2601cfc4": {
     "views": [
      {
       "cell_index": 17
      }
     ]
    },
    "c97ced5f8c85427a8aefe6074ee54f4c": {
     "views": [
      {
       "cell_index": 15
      }
     ]
    }
   },
   "version": "1.2.0"
  }
 },
 "nbformat": 4,
 "nbformat_minor": 1
}
