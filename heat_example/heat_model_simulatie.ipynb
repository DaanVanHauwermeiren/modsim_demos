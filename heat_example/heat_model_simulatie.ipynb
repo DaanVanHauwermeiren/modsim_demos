{
 "cells": [
  {
   "cell_type": "markdown",
   "metadata": {},
   "source": [
    "## Model simuleren: heat model"
   ]
  },
  {
   "cell_type": "markdown",
   "metadata": {},
   "source": [
    "$$\\frac{d[N2O5]}{dt}= -2Are^{\\frac{-E_{A}}{RT}}[N2O5] + \\frac{Q}{V}({[N2O5]}_{in} - [N2O5])$$\n",
    "$$\\frac{d[N2O4]}{dt}= 2Are^{\\frac{-E_{A}}{RT}}[N2O5]+ \\frac{Q}{V}({[N2O4]}_{in} - [N2O4])$$\n",
    "$$\\frac{d[T]}{dt}= \\frac{Q \\rho C_{p}(T{in}-T)+UA(T_{w}-T)-VAre^{\\frac{-E_{A}}{RT}}[N2O5]\\Delta_{r}H}{V \\rho C_{p}}$$"
   ]
  },
  {
   "cell_type": "code",
   "execution_count": null,
   "metadata": {
    "collapsed": true
   },
   "outputs": [],
   "source": [
    "%matplotlib inline"
   ]
  },
  {
   "cell_type": "code",
   "execution_count": null,
   "metadata": {
    "collapsed": false
   },
   "outputs": [],
   "source": [
    "# Importeren van functionaliteiten\n",
    "import matplotlib.pyplot as plt\n",
    "#import seaborn as sns\n",
    "import numpy as np\n",
    "import scipy as sp\n",
    "import pandas as pd\n",
    "import math\n",
    "from IPython.display import Image\n",
    "from ipywidgets import interact, fixed\n",
    "%load_ext autoreload\n",
    "%autoreload 1\n",
    "%aimport heat"
   ]
  },
  {
   "cell_type": "code",
   "execution_count": null,
   "metadata": {
    "collapsed": false
   },
   "outputs": [],
   "source": [
    "import sys\n",
    "import os\n",
    "operating_system = os.name\n",
    "if operating_system is 'posix':\n",
    "    sys.path.append(\"/\".join(os.getcwd().split('/')[:-1]) + \"/scripts/\")\n",
    "else:\n",
    "    sys.path.append(\"\\\\\".join(os.getcwd().split('\\\\')[:-1]) + \"\\\\scripts\\\\\")\n",
    "%aimport functions_modsim"
   ]
  },
  {
   "cell_type": "markdown",
   "metadata": {},
   "source": [
    "## Model simuleren"
   ]
  },
  {
   "cell_type": "code",
   "execution_count": null,
   "metadata": {
    "collapsed": false
   },
   "outputs": [],
   "source": [
    "df, _ = functions_modsim.model(\n",
    "    np.arange(0, 1100, 10), # tijdstappen\n",
    "    [ 0, 0, 310], # initiële condities\n",
    "    ['N2O5','N2O4','T'], # namen variabelen\n",
    "    heat.model_afgeleiden, # naam functie afgeleiden\n",
    "    returnDataFrame=True, plotresults=True,\n",
    "    # vanaf hier: functie specifieke parameters\n",
    "    Ar=1.54e13, Ea=100320, Q=0.5, V=100, rho=0.79,\n",
    "    Cp=52.82, U=250, A=2, delta_rH=-6000,\n",
    "    N2O5_in=0.02, N2O4_in=0, Tin=250, Tw=330)"
   ]
  },
  {
   "cell_type": "markdown",
   "metadata": {},
   "source": [
    "$$\\frac{d[N2O5]}{dt}= -2Are^{\\frac{-E_{A}}{RT}}[N2O5] + \\frac{Q}{V}({[N2O5]}_{in} - [N2O5])$$\n",
    "$$\\frac{d[N2O4]}{dt}= 2Are^{\\frac{-E_{A}}{RT}}[N2O5]+ \\frac{Q}{V}({[N2O4]}_{in} - [N2O4])$$\n",
    "$$\\frac{d[T]}{dt}= \\frac{Q \\rho C_{p}(T{in}-T)+UA(T_{w}-T)-VAre^{\\frac{-E_{A}}{RT}}[N2O5]\\Delta_{r}H}{V \\rho C_{p}}$$"
   ]
  },
  {
   "cell_type": "markdown",
   "metadata": {},
   "source": [
    "## Impact parameters"
   ]
  },
  {
   "cell_type": "code",
   "execution_count": null,
   "metadata": {
    "collapsed": false
   },
   "outputs": [],
   "source": [
    "interact(functions_modsim.model,\n",
    "         tijdstappen=fixed(np.arange(0, 1100, 10)),\n",
    "         init=fixed([ 0, 0, 310]), varnames=fixed(['N2O5','N2O4','T']),\n",
    "         f=fixed(heat.model_afgeleiden),\n",
    "         returnDataFrame=fixed(False), plotresults=fixed(True),\n",
    "         Ar=fixed(1.54e13), Ea=fixed(100320), Q=(0, 5, .5), V=(0, 1000, 10),\n",
    "         rho=fixed(0.79), Cp=fixed(52.82), U=(200, 300, 10), A=(0, 10, 1),\n",
    "         delta_rH=(-10000, 10000, 1000), N2O5_in=fixed(0.02), N2O4_in=fixed(0),\n",
    "         Tin=(200, 300, 10), Tw=(300, 350, 10))"
   ]
  },
  {
   "cell_type": "markdown",
   "metadata": {},
   "source": [
    "$$\\frac{d[N2O5]}{dt}= -2Are^{\\frac{-E_{A}}{RT}}[N2O5] + \\frac{Q}{V}({[N2O5]}_{in} - [N2O5])$$\n",
    "$$\\frac{d[N2O4]}{dt}= 2Are^{\\frac{-E_{A}}{RT}}[N2O5]+ \\frac{Q}{V}({[N2O4]}_{in} - [N2O4])$$\n",
    "$$\\frac{d[T]}{dt}= \\frac{Q \\rho C_{p}(T{in}-T)+UA(T_{w}-T)-VAre^{\\frac{-E_{A}}{RT}}[N2O5]\\Delta_{r}H}{V \\rho C_{p}}$$"
   ]
  }
 ],
 "metadata": {
  "anaconda-cloud": {},
  "kernelspec": {
   "display_name": "Python [conda env:py35]",
   "language": "python",
   "name": "conda-env-py35-py"
  },
  "language_info": {
   "codemirror_mode": {
    "name": "ipython",
    "version": 3
   },
   "file_extension": ".py",
   "mimetype": "text/x-python",
   "name": "python",
   "nbconvert_exporter": "python",
   "pygments_lexer": "ipython3",
   "version": "3.5.1"
  },
  "widgets": {
   "state": {
    "4abc190eed21475aaf0871fb4e1ec2c0": {
     "views": [
      {
       "cell_index": 10
      }
     ]
    }
   },
   "version": "1.2.0"
  }
 },
 "nbformat": 4,
 "nbformat_minor": 1
}
