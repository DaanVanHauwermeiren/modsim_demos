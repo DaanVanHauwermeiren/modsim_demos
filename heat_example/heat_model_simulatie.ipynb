{
 "cells": [
  {
   "cell_type": "markdown",
   "metadata": {},
   "source": [
    "## Model simuleren: heat model"
   ]
  },
  {
   "cell_type": "markdown",
   "metadata": {},
   "source": [
    "$$\\frac{d[N2O5]}{dt}= -2Are^{\\frac{-E_{A}}{RT}}[N2O5] + \\frac{Q}{V}({[N2O5]}_{in} - [N2O5])$$\n",
    "$$\\frac{d[N2O4]}{dt}= 2Are^{\\frac{-E_{A}}{RT}}[N2O5]+ \\frac{Q}{V}({[N2O4]}_{in} - [N2O4])$$\n",
    "$$\\frac{d[T]}{dt}= \\frac{Q \\rho C_{p}(T{in}-T)+UA(T_{w}-T)-VAre^{\\frac{-E_{A}}{RT}}[N2O5]\\Delta_{r}H}{V \\rho C_{p}}$$"
   ]
  },
  {
   "cell_type": "code",
   "execution_count": 1,
   "metadata": {},
   "outputs": [],
   "source": [
    "%matplotlib inline"
   ]
  },
  {
   "cell_type": "code",
   "execution_count": 2,
   "metadata": {},
   "outputs": [],
   "source": [
    "# Importeren van functionaliteiten\n",
    "import matplotlib.pyplot as plt\n",
    "#import seaborn as sns\n",
    "import numpy as np\n",
    "import scipy as sp\n",
    "import pandas as pd\n",
    "import math\n",
    "from IPython.display import Image\n",
    "from ipywidgets import interact, fixed\n",
    "%load_ext autoreload\n",
    "%autoreload 1\n",
    "%aimport heat\n",
    "#from populatie import populatie_model   # Importeren van de populatie functies"
   ]
  },
  {
   "cell_type": "markdown",
   "metadata": {},
   "source": [
    "#### Praktische info\n",
    "Functiedefinitie:\n",
    "\n",
    "    heat.heat_model(tijdstappen, N2O5_0, N2O4_0, T_0, Ar, Ea, Q, V, rho, Cp, U, A, delta_rH, N2O5_in, N2O4_in, Tin, Tw)\n",
    "\n",
    "Bij de standaard situatie voor onze case werden volgende waarden voor initiële condities, parameters en inputs gebruikt:\n",
    "\n",
    "    heat.heat_model(np.arange(0, 1100, 10), 0, 0, 310, 1.54e13, 100320, 0.5, 100, 0.79, 52.82, 250, 2, -6000, 0.02, 0, 250, 330) "
   ]
  },
  {
   "cell_type": "markdown",
   "metadata": {},
   "source": [
    "## Model simuleren"
   ]
  },
  {
   "cell_type": "code",
   "execution_count": 3,
   "metadata": {},
   "outputs": [
    {
     "data": {
      "image/png": "[encoded data removed]",
      "text/plain": [
       "<matplotlib.figure.Figure at 0x7f0f7b39a240>"
      ]
     },
     "metadata": {},
     "output_type": "display_data"
    }
   ],
   "source": [
    "model = heat.heat_model(np.arange(0, 1100, 10), 0, 0, 310, 1.54e13, 100320, 0.5, 100, 0.79, 52.82, \n",
    "                        250, 2, -6000, 0.02, 0, 250, 330)"
   ]
  },
  {
   "cell_type": "markdown",
   "metadata": {},
   "source": [
    "$$\\frac{d[N2O5]}{dt}= -2Are^{\\frac{-E_{A}}{RT}}[N2O5] + \\frac{Q}{V}({[N2O5]}_{in} - [N2O5])$$\n",
    "$$\\frac{d[N2O4]}{dt}= 2Are^{\\frac{-E_{A}}{RT}}[N2O5]+ \\frac{Q}{V}({[N2O4]}_{in} - [N2O4])$$\n",
    "$$\\frac{d[T]}{dt}= \\frac{Q \\rho C_{p}(T{in}-T)+UA(T_{w}-T)-VAre^{\\frac{-E_{A}}{RT}}[N2O5]\\Delta_{r}H}{V \\rho C_{p}}$$"
   ]
  },
  {
   "cell_type": "markdown",
   "metadata": {},
   "source": [
    "## Impact parameters"
   ]
  },
  {
   "cell_type": "code",
   "execution_count": 4,
   "metadata": {},
   "outputs": [
    {
     "data": {
      "application/vnd.jupyter.widget-view+json": {
       "model_id": "319154c3737a4533bd27e9730566bce6",
       "version_major": 2,
       "version_minor": 0
      },
      "text/html": [
       "<p>Failed to display Jupyter Widget of type <code>interactive</code>.</p>\n",
       "<p>\n",
       "  If you're reading this message in the Jupyter Notebook or JupyterLab Notebook, it may mean\n",
       "  that the widgets JavaScript is still loading. If this message persists, it\n",
       "  likely means that the widgets JavaScript library is either not installed or\n",
       "  not enabled. See the <a href=\"https://ipywidgets.readthedocs.io/en/stable/user_install.html\">Jupyter\n",
       "  Widgets Documentation</a> for setup instructions.\n",
       "</p>\n",
       "<p>\n",
       "  If you're reading this message in another frontend (for example, a static\n",
       "  rendering on GitHub or <a href=\"https://nbviewer.jupyter.org/\">NBViewer</a>),\n",
       "  it may mean that your frontend doesn't currently support widgets.\n",
       "</p>\n"
      ],
      "text/plain": [
       "interactive(children=(FloatSlider(value=2.0, description='Q', max=5.0, step=0.5), IntSlider(value=500, description='V', max=1000, step=10), IntSlider(value=250, description='U', max=300, min=200), IntSlider(value=5, description='A', max=10), IntSlider(value=0, description='delta_rH', max=10000, min=-10000, step=1000), IntSlider(value=250, description='Tin', max=300, min=200, step=10), IntSlider(value=325, description='Tw', max=350, min=300), Output()), _dom_classes=('widget-interact',))"
      ]
     },
     "metadata": {},
     "output_type": "display_data"
    }
   ],
   "source": [
    "interact(heat.heat_model, tijdstappen=fixed(np.arange(0, 1100, 10)), N2O5_0=fixed(0), N2O4_0=fixed(0),\n",
    "         T_0=fixed(310), Ar=fixed(1.54e13), Ea=fixed(100320) , R=fixed(8.31), Q=(0,5,0.5), V=(0,1000,10),\n",
    "         N2O5_in=fixed(0.02), N2O4_in=fixed(0), rho=fixed(0.79), Cp=fixed(52.82), Tin=(200,300,10), Tw=(300,350,1),\n",
    "         U=(200,300,1), A=(0,10,1), delta_rH=(-10000,10000,1000),  returnDataFrame=fixed(False));"
   ]
  },
  {
   "cell_type": "markdown",
   "metadata": {},
   "source": [
    "$$\\frac{d[N2O5]}{dt}= -2Are^{\\frac{-E_{A}}{RT}}[N2O5] + \\frac{Q}{V}({[N2O5]}_{in} - [N2O5])$$\n",
    "$$\\frac{d[N2O4]}{dt}= 2Are^{\\frac{-E_{A}}{RT}}[N2O5]+ \\frac{Q}{V}({[N2O4]}_{in} - [N2O4])$$\n",
    "$$\\frac{d[T]}{dt}= \\frac{Q \\rho C_{p}(T{in}-T)+UA(T_{w}-T)-VAre^{\\frac{-E_{A}}{RT}}[N2O5]\\Delta_{r}H}{V \\rho C_{p}}$$"
   ]
  },
  {
   "cell_type": "code",
   "execution_count": null,
   "metadata": {},
   "outputs": [],
   "source": []
  }
 ],
 "metadata": {
  "kernelspec": {
   "display_name": "Python 3",
   "language": "python",
   "name": "python3"
  },
  "language_info": {
   "codemirror_mode": {
    "name": "ipython",
    "version": 3
   },
   "file_extension": ".py",
   "mimetype": "text/x-python",
   "name": "python",
   "nbconvert_exporter": "python",
   "pygments_lexer": "ipython3",
   "version": "3.6.3"
  }
 },
 "nbformat": 4,
 "nbformat_minor": 1
}
