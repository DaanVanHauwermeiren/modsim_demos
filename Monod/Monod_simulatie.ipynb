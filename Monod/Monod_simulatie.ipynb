{
 "cells": [
  {
   "cell_type": "markdown",
   "metadata": {},
   "source": [
    "## Model simuleren: Monod model"
   ]
  },
  {
   "cell_type": "markdown",
   "metadata": {},
   "source": [
    "$$\\frac{dX}{dt}= \\mu_{max}\\frac{S}{K_{S}+S}X - \\frac{Q}{V}X$$\n",
    "\n",
    "$$\\frac{dS}{dt}= -\\frac{1}{Y} \\mu_{max}\\frac{S}{K_{S}+S}X + \\frac{Q}{V}(S_{in} - S)$$"
   ]
  },
  {
   "cell_type": "code",
   "execution_count": 1,
   "metadata": {},
   "outputs": [],
   "source": [
    "%matplotlib inline"
   ]
  },
  {
   "cell_type": "code",
   "execution_count": 2,
   "metadata": {},
   "outputs": [],
   "source": [
    "# Importeren van functionaliteiten\n",
    "import matplotlib.pyplot as plt\n",
    "#import seaborn as sns\n",
    "import numpy as np\n",
    "import scipy as sp\n",
    "import pandas as pd\n",
    "from IPython.display import Image\n",
    "from ipywidgets import interact, fixed\n",
    "%load_ext autoreload\n",
    "%autoreload 1\n",
    "%aimport Monod\n",
    "#from populatie import populatie_model   # Importeren van de populatie functies"
   ]
  },
  {
   "cell_type": "markdown",
   "metadata": {},
   "source": [
    "#### Praktische info\n",
    "Functiedefinitie:\n",
    "\n",
    "    Monod.Monod_model(tijdstappen, X_0, S_0, mu_max, Q, V, Y, K_S, S_in)\n",
    "\n",
    "Bij de standaard situatie voor onze case werden volgende waarden voor initiele condities, parameters en inputs gebruikt:\n",
    "\n",
    "    Monod.Monod_model(np.arange(0, 50, 0.1), 0.00001, 0, 0.0003, 1, 5000, 0.5, 0.0002, 0.001) "
   ]
  },
  {
   "cell_type": "markdown",
   "metadata": {},
   "source": [
    "## Model simuleren"
   ]
  },
  {
   "cell_type": "code",
   "execution_count": 3,
   "metadata": {},
   "outputs": [
    {
     "data": {
      "image/png": "[encoded data removed]",
      "text/plain": [
       "<matplotlib.figure.Figure at 0x7fe6f5895438>"
      ]
     },
     "metadata": {},
     "output_type": "display_data"
    }
   ],
   "source": [
    "model = Monod.Monod_model(np.arange(0, 200000, 10), 0.00001, 0, 0.0003, 1, 5000, 0.5, 0.0002, 0.001)"
   ]
  },
  {
   "cell_type": "markdown",
   "metadata": {},
   "source": [
    "$$\\frac{dX}{dt}= \\mu_{max}\\frac{S}{K_{S}+S}X - \\frac{Q}{V}X$$\n",
    "\n",
    "$$\\frac{dS}{dt}= -\\frac{1}{Y} \\mu_{max}\\frac{S}{K_{S}+S}X + \\frac{Q}{V}(S_{in} - S)$$"
   ]
  },
  {
   "cell_type": "markdown",
   "metadata": {},
   "source": [
    "## Impact initiële conditie"
   ]
  },
  {
   "cell_type": "code",
   "execution_count": 4,
   "metadata": {},
   "outputs": [
    {
     "data": {
      "application/vnd.jupyter.widget-view+json": {
       "model_id": "0558a9f4df8a4196a3cdae1bdda7f63a",
       "version_major": 2,
       "version_minor": 0
      },
      "text/html": [
       "<p>Failed to display Jupyter Widget of type <code>interactive</code>.</p>\n",
       "<p>\n",
       "  If you're reading this message in the Jupyter Notebook or JupyterLab Notebook, it may mean\n",
       "  that the widgets JavaScript is still loading. If this message persists, it\n",
       "  likely means that the widgets JavaScript library is either not installed or\n",
       "  not enabled. See the <a href=\"https://ipywidgets.readthedocs.io/en/stable/user_install.html\">Jupyter\n",
       "  Widgets Documentation</a> for setup instructions.\n",
       "</p>\n",
       "<p>\n",
       "  If you're reading this message in another frontend (for example, a static\n",
       "  rendering on GitHub or <a href=\"https://nbviewer.jupyter.org/\">NBViewer</a>),\n",
       "  it may mean that your frontend doesn't currently support widgets.\n",
       "</p>\n"
      ],
      "text/plain": [
       "interactive(children=(FloatSlider(value=0.0005, description='X_0', max=0.001, step=1e-05), FloatSlider(value=0.0005, description='S_0', max=0.001, step=0.0001), Output()), _dom_classes=('widget-interact',))"
      ]
     },
     "metadata": {},
     "output_type": "display_data"
    }
   ],
   "source": [
    "interact(Monod.Monod_model, tijdstappen=fixed(np.arange(0., 200000, 10)), X_0=(0., 0.001, 0.00001), \n",
    "         S_0=(0., 0.001, 0.0001), mu_max=fixed(0.0003), Q=fixed(1), V=fixed(5000), Y=fixed(0.51), \n",
    "         K_S=fixed(2e-4), S_in=fixed(1e-3), returnDataFrame=fixed(False));"
   ]
  },
  {
   "cell_type": "markdown",
   "metadata": {},
   "source": [
    "$$\\frac{dX}{dt}= \\mu_{max}\\frac{S}{K_{S}+S}X - \\frac{Q}{V}X$$\n",
    "\n",
    "$$\\frac{dS}{dt}= -\\frac{1}{Y} \\mu_{max}\\frac{S}{K_{S}+S}X + \\frac{Q}{V}(S_{in} - S)$$"
   ]
  },
  {
   "cell_type": "markdown",
   "metadata": {},
   "source": [
    "## Impact parameters (deel 1)"
   ]
  },
  {
   "cell_type": "code",
   "execution_count": 5,
   "metadata": {},
   "outputs": [
    {
     "data": {
      "application/vnd.jupyter.widget-view+json": {
       "model_id": "1424d14998914ccaa078996ffb71822a",
       "version_major": 2,
       "version_minor": 0
      },
      "text/html": [
       "<p>Failed to display Jupyter Widget of type <code>interactive</code>.</p>\n",
       "<p>\n",
       "  If you're reading this message in the Jupyter Notebook or JupyterLab Notebook, it may mean\n",
       "  that the widgets JavaScript is still loading. If this message persists, it\n",
       "  likely means that the widgets JavaScript library is either not installed or\n",
       "  not enabled. See the <a href=\"https://ipywidgets.readthedocs.io/en/stable/user_install.html\">Jupyter\n",
       "  Widgets Documentation</a> for setup instructions.\n",
       "</p>\n",
       "<p>\n",
       "  If you're reading this message in another frontend (for example, a static\n",
       "  rendering on GitHub or <a href=\"https://nbviewer.jupyter.org/\">NBViewer</a>),\n",
       "  it may mean that your frontend doesn't currently support widgets.\n",
       "</p>\n"
      ],
      "text/plain": [
       "interactive(children=(FloatSlider(value=0.0005, description='mu_max', max=0.001, step=0.0001), FloatSlider(value=0.55, description='Y', max=1.0, min=0.1, step=0.01), FloatSlider(value=0.0005, description='K_S', max=0.001, step=0.0001), Output()), _dom_classes=('widget-interact',))"
      ]
     },
     "metadata": {},
     "output_type": "display_data"
    }
   ],
   "source": [
    "interact(Monod.Monod_model, tijdstappen=fixed(np.arange(0., 200000, 10)), X_0=fixed(1e-5), S_0=fixed(0), \n",
    "         mu_max=(0.,0.001, 0.0001), Q=fixed(1), V=fixed(5000), Y=(0.1,1,0.01), K_S=(0., 0.001, 0.0001), \n",
    "         S_in=fixed(1e-3), returnDataFrame=fixed(False));"
   ]
  },
  {
   "cell_type": "markdown",
   "metadata": {},
   "source": [
    "$$\\frac{dX}{dt}= \\mu_{max}\\frac{S}{K_{S}+S}X - \\frac{Q}{V}X$$\n",
    "\n",
    "$$\\frac{dS}{dt}= -\\frac{1}{Y} \\mu_{max}\\frac{S}{K_{S}+S}X + \\frac{Q}{V}(S_{in} - S)$$"
   ]
  },
  {
   "cell_type": "markdown",
   "metadata": {},
   "source": [
    "## Impact parameters (deel 2)"
   ]
  },
  {
   "cell_type": "code",
   "execution_count": 6,
   "metadata": {},
   "outputs": [
    {
     "data": {
      "application/vnd.jupyter.widget-view+json": {
       "model_id": "91476e2ead444e29a7b31407ae971f8c",
       "version_major": 2,
       "version_minor": 0
      },
      "text/html": [
       "<p>Failed to display Jupyter Widget of type <code>interactive</code>.</p>\n",
       "<p>\n",
       "  If you're reading this message in the Jupyter Notebook or JupyterLab Notebook, it may mean\n",
       "  that the widgets JavaScript is still loading. If this message persists, it\n",
       "  likely means that the widgets JavaScript library is either not installed or\n",
       "  not enabled. See the <a href=\"https://ipywidgets.readthedocs.io/en/stable/user_install.html\">Jupyter\n",
       "  Widgets Documentation</a> for setup instructions.\n",
       "</p>\n",
       "<p>\n",
       "  If you're reading this message in another frontend (for example, a static\n",
       "  rendering on GitHub or <a href=\"https://nbviewer.jupyter.org/\">NBViewer</a>),\n",
       "  it may mean that your frontend doesn't currently support widgets.\n",
       "</p>\n"
      ],
      "text/plain": [
       "interactive(children=(FloatSlider(value=1.0, description='Q', max=2.0), IntSlider(value=5000, description='V', max=6000, min=4000, step=100), FloatSlider(value=0.005, description='S_in', max=0.01, step=0.001), Output()), _dom_classes=('widget-interact',))"
      ]
     },
     "metadata": {},
     "output_type": "display_data"
    }
   ],
   "source": [
    "interact(Monod.Monod_model, tijdstappen=fixed(np.arange(0., 200000, 10)), X_0=fixed(1e-5), S_0=fixed(0), \n",
    "         mu_max=fixed(3e-4), Q=(0,2,0.1), V=(4000,6000,100), Y=fixed(0.5), K_S=fixed(2e-4), \n",
    "         S_in=(0., 0.01, 0.001), returnDataFrame=fixed(False));"
   ]
  },
  {
   "cell_type": "markdown",
   "metadata": {},
   "source": [
    "$$\\frac{dX}{dt}= \\mu_{max}\\frac{S}{K_{S}+S}X - \\frac{Q}{V}X$$\n",
    "\n",
    "$$\\frac{dS}{dt}= -\\frac{1}{Y} \\mu_{max}\\frac{S}{K_{S}+S}X + \\frac{Q}{V}(S_{in} - S)$$"
   ]
  }
 ],
 "metadata": {
  "kernelspec": {
   "display_name": "Python 3",
   "language": "python",
   "name": "python3"
  },
  "language_info": {
   "codemirror_mode": {
    "name": "ipython",
    "version": 3
   },
   "file_extension": ".py",
   "mimetype": "text/x-python",
   "name": "python",
   "nbconvert_exporter": "python",
   "pygments_lexer": "ipython3",
   "version": "3.6.3"
  }
 },
 "nbformat": 4,
 "nbformat_minor": 1
}
