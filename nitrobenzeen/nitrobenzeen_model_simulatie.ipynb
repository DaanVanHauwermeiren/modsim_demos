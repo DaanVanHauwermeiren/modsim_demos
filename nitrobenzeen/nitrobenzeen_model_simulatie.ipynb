{
 "cells": [
  {
   "cell_type": "markdown",
   "metadata": {},
   "source": [
    "## Model simuleren: nitrobenzeenmodel"
   ]
  },
  {
   "cell_type": "markdown",
   "metadata": {},
   "source": [
    "$$\\frac{d[C6H6]}{dt}= -2k{[C6H6]}^2[N2O5] + \\frac{Q}{V}({[C6H6]}_{in} - [C6H6])$$\n",
    "$$\\frac{d[N2O5]}{dt}= -k{[C6H6]}^2[N2O5] + \\frac{Q}{V}({[N2O5]}_{in} - [N2O5])$$\n",
    "$$\\frac{d[C6H5NO2]}{dt}= 2k{[C6H6]}^2[N2O5] - \\frac{Q}{V}[C6H5NO2] $$"
   ]
  },
  {
   "cell_type": "code",
   "execution_count": 1,
   "metadata": {},
   "outputs": [],
   "source": [
    "%matplotlib inline"
   ]
  },
  {
   "cell_type": "code",
   "execution_count": 2,
   "metadata": {},
   "outputs": [],
   "source": [
    "# Importeren van functionaliteiten\n",
    "import matplotlib.pyplot as plt\n",
    "#import seaborn as sns\n",
    "import numpy as np\n",
    "import scipy as sp\n",
    "import pandas as pd\n",
    "from IPython.display import Image\n",
    "from ipywidgets import interact, fixed\n",
    "%load_ext autoreload\n",
    "%autoreload 1\n",
    "%aimport nitrobenzeen\n",
    "#from populatie import populatie_model   # Importeren van de populatie functies"
   ]
  },
  {
   "cell_type": "markdown",
   "metadata": {},
   "source": [
    "#### Praktische info\n",
    "Functiedefinitie:\n",
    "\n",
    "    nitrobenzeen.nitrobenzeen_model(tijdstappen, C6H6_0, N2O5_0, C6H5NO2_0, k, Q, V, C6H6_in, N2O5_in)\n",
    "\n",
    "Bij de standaard situatie voor onze case werden volgende waarden voor initiele condities, parameters en inputs gebruikt:\n",
    "\n",
    "    nitrobenzeen.nitrobenzeen_model(np.arange(0, 1500, 1), 0.03, 0, 0, 2, 10, 3000, 0, 0.03) "
   ]
  },
  {
   "cell_type": "markdown",
   "metadata": {
    "collapsed": true
   },
   "source": [
    "## Model simuleren"
   ]
  },
  {
   "cell_type": "code",
   "execution_count": 3,
   "metadata": {},
   "outputs": [
    {
     "data": {
      "image/png": "[encoded data removed]",
      "text/plain": [
       "<matplotlib.figure.Figure at 0x7f447b287160>"
      ]
     },
     "metadata": {},
     "output_type": "display_data"
    }
   ],
   "source": [
    "model = nitrobenzeen.nitrobenzeen_model(np.arange(0, 1500, 1), 0.03, 0, 0, 2, 10, 3000, 0, 0.03) "
   ]
  },
  {
   "cell_type": "markdown",
   "metadata": {},
   "source": [
    "$$\\frac{d[C6H6]}{dt}= -2k{[C6H6]}^2[N2O5] + \\frac{Q}{V}({[C6H6]}_{in} - [C6H6])$$\n",
    "$$\\frac{d[N2O5]}{dt}= -k{[C6H6]}^2[N2O5] + \\frac{Q}{V}({[N2O5]}_{in} - [N2O5])$$\n",
    "$$\\frac{d[C6H5NO2]}{dt}= 2k{[C6H6]}^2[N2O5] - \\frac{Q}{V}[C6H5NO2] $$"
   ]
  },
  {
   "cell_type": "markdown",
   "metadata": {},
   "source": [
    "## Impact initiële conditie"
   ]
  },
  {
   "cell_type": "code",
   "execution_count": 4,
   "metadata": {},
   "outputs": [
    {
     "data": {
      "application/vnd.jupyter.widget-view+json": {
       "model_id": "3125aca000e9412b9f5ec7e9420b6e2a",
       "version_major": 2,
       "version_minor": 0
      },
      "text/html": [
       "<p>Failed to display Jupyter Widget of type <code>interactive</code>.</p>\n",
       "<p>\n",
       "  If you're reading this message in the Jupyter Notebook or JupyterLab Notebook, it may mean\n",
       "  that the widgets JavaScript is still loading. If this message persists, it\n",
       "  likely means that the widgets JavaScript library is either not installed or\n",
       "  not enabled. See the <a href=\"https://ipywidgets.readthedocs.io/en/stable/user_install.html\">Jupyter\n",
       "  Widgets Documentation</a> for setup instructions.\n",
       "</p>\n",
       "<p>\n",
       "  If you're reading this message in another frontend (for example, a static\n",
       "  rendering on GitHub or <a href=\"https://nbviewer.jupyter.org/\">NBViewer</a>),\n",
       "  it may mean that your frontend doesn't currently support widgets.\n",
       "</p>\n"
      ],
      "text/plain": [
       "interactive(children=(FloatSlider(value=0.5, description='C6H6_0', max=1.0, step=0.01), FloatSlider(value=0.5, description='N2O5_0', max=1.0, step=0.01), FloatSlider(value=0.5, description='C6H5NO2_0', max=1.0, step=0.01), Output()), _dom_classes=('widget-interact',))"
      ]
     },
     "metadata": {},
     "output_type": "display_data"
    }
   ],
   "source": [
    "interact(nitrobenzeen.nitrobenzeen_model, tijdstappen=fixed(np.arange(0., 1500, 1)), C6H6_0=(0., 1., 0.01), \n",
    "         N2O5_0=(0., 1., 0.01), C6H5NO2_0=(0., 1., 0.01), k=fixed(2),Q=fixed(10), V=fixed(3000), C6H6_in=fixed(0), \n",
    "         N2O5_in=fixed(0.03),returnDataFrame=fixed(False));"
   ]
  },
  {
   "cell_type": "markdown",
   "metadata": {},
   "source": [
    "$$\\frac{d[C6H6]}{dt}= -2k{[C6H6]}^2[N2O5] + \\frac{Q}{V}({[C6H6]}_{in} - [C6H6])$$\n",
    "$$\\frac{d[N2O5]}{dt}= -k{[C6H6]}^2[N2O5] + \\frac{Q}{V}({[N2O5]}_{in} - [N2O5])$$\n",
    "$$\\frac{d[C6H5NO2]}{dt}= 2k{[C6H6]}^2[N2O5] - \\frac{Q}{V}[C6H5NO2] $$"
   ]
  },
  {
   "cell_type": "markdown",
   "metadata": {},
   "source": [
    "## Impact inputs"
   ]
  },
  {
   "cell_type": "code",
   "execution_count": 5,
   "metadata": {},
   "outputs": [
    {
     "data": {
      "application/vnd.jupyter.widget-view+json": {
       "model_id": "778557bf0f2045fdbc69996a5dd6b30a",
       "version_major": 2,
       "version_minor": 0
      },
      "text/html": [
       "<p>Failed to display Jupyter Widget of type <code>interactive</code>.</p>\n",
       "<p>\n",
       "  If you're reading this message in the Jupyter Notebook or JupyterLab Notebook, it may mean\n",
       "  that the widgets JavaScript is still loading. If this message persists, it\n",
       "  likely means that the widgets JavaScript library is either not installed or\n",
       "  not enabled. See the <a href=\"https://ipywidgets.readthedocs.io/en/stable/user_install.html\">Jupyter\n",
       "  Widgets Documentation</a> for setup instructions.\n",
       "</p>\n",
       "<p>\n",
       "  If you're reading this message in another frontend (for example, a static\n",
       "  rendering on GitHub or <a href=\"https://nbviewer.jupyter.org/\">NBViewer</a>),\n",
       "  it may mean that your frontend doesn't currently support widgets.\n",
       "</p>\n"
      ],
      "text/plain": [
       "interactive(children=(FloatSlider(value=0.0, description='C6H6_in', max=1.0, step=0.01), FloatSlider(value=0.05, description='N2O5_in', max=0.1, step=0.01), Output()), _dom_classes=('widget-interact',))"
      ]
     },
     "metadata": {},
     "output_type": "display_data"
    }
   ],
   "source": [
    "interact(nitrobenzeen.nitrobenzeen_model, tijdstappen=fixed(np.arange(0., 1500, 1)), C6H6_0=fixed(0.03), \n",
    "         N2O5_0=fixed(0), C6H5NO2_0=fixed(0), k=fixed(2),Q=fixed(10), V=fixed(3000), C6H6_in=(0,1,0.01), \n",
    "         N2O5_in=(0,0.1,0.01),returnDataFrame=fixed(False));"
   ]
  },
  {
   "cell_type": "markdown",
   "metadata": {},
   "source": [
    "$$\\frac{d[C6H6]}{dt}= -2k{[C6H6]}^2[N2O5] + \\frac{Q}{V}({[C6H6]}_{in} - [C6H6])$$\n",
    "$$\\frac{d[N2O5]}{dt}= -k{[C6H6]}^2[N2O5] + \\frac{Q}{V}({[N2O5]}_{in} - [N2O5])$$\n",
    "$$\\frac{d[C6H5NO2]}{dt}= 2k{[C6H6]}^2[N2O5] - \\frac{Q}{V}[C6H5NO2] $$"
   ]
  },
  {
   "cell_type": "markdown",
   "metadata": {},
   "source": [
    "## Impact parameters"
   ]
  },
  {
   "cell_type": "code",
   "execution_count": 6,
   "metadata": {},
   "outputs": [
    {
     "data": {
      "application/vnd.jupyter.widget-view+json": {
       "model_id": "cad589fb70b2481a9a90bcaec05cf5b7",
       "version_major": 2,
       "version_minor": 0
      },
      "text/html": [
       "<p>Failed to display Jupyter Widget of type <code>interactive</code>.</p>\n",
       "<p>\n",
       "  If you're reading this message in the Jupyter Notebook or JupyterLab Notebook, it may mean\n",
       "  that the widgets JavaScript is still loading. If this message persists, it\n",
       "  likely means that the widgets JavaScript library is either not installed or\n",
       "  not enabled. See the <a href=\"https://ipywidgets.readthedocs.io/en/stable/user_install.html\">Jupyter\n",
       "  Widgets Documentation</a> for setup instructions.\n",
       "</p>\n",
       "<p>\n",
       "  If you're reading this message in another frontend (for example, a static\n",
       "  rendering on GitHub or <a href=\"https://nbviewer.jupyter.org/\">NBViewer</a>),\n",
       "  it may mean that your frontend doesn't currently support widgets.\n",
       "</p>\n"
      ],
      "text/plain": [
       "interactive(children=(FloatSlider(value=5.0, description='k', max=10.0), FloatSlider(value=10.0, description='Q', max=20.0, step=1.0), FloatSlider(value=3000.0, description='V', max=6000.0, step=100.0), Output()), _dom_classes=('widget-interact',))"
      ]
     },
     "metadata": {},
     "output_type": "display_data"
    }
   ],
   "source": [
    "interact(nitrobenzeen.nitrobenzeen_model, tijdstappen=fixed(np.arange(0., 1500, 1)), C6H6_0=fixed(0.03), \n",
    "         N2O5_0=fixed(0), C6H5NO2_0=fixed(0), k=(0.,10.,0.1),Q=(0., 20., 1.), V=(0.,6000.,100.), \n",
    "         C6H6_in=fixed(0), N2O5_in=fixed(0.03),returnDataFrame=fixed(False));"
   ]
  },
  {
   "cell_type": "markdown",
   "metadata": {},
   "source": [
    "$$\\frac{d[C6H6]}{dt}= -2k{[C6H6]}^2[N2O5] + \\frac{Q}{V}({[C6H6]}_{in} - [C6H6])$$\n",
    "$$\\frac{d[N2O5]}{dt}= -k{[C6H6]}^2[N2O5] + \\frac{Q}{V}({[N2O5]}_{in} - [N2O5])$$\n",
    "$$\\frac{d[C6H5NO2]}{dt}= 2k{[C6H6]}^2[N2O5] - \\frac{Q}{V}[C6H5NO2] $$"
   ]
  }
 ],
 "metadata": {
  "kernelspec": {
   "display_name": "Python 3",
   "language": "python",
   "name": "python3"
  },
  "language_info": {
   "codemirror_mode": {
    "name": "ipython",
    "version": 3
   },
   "file_extension": ".py",
   "mimetype": "text/x-python",
   "name": "python",
   "nbconvert_exporter": "python",
   "pygments_lexer": "ipython3",
   "version": "3.6.3"
  }
 },
 "nbformat": 4,
 "nbformat_minor": 1
}
