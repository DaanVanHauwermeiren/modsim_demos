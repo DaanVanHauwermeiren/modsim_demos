{
 "cells": [
  {
   "cell_type": "markdown",
   "metadata": {},
   "source": [
    "# load libs and functions"
   ]
  },
  {
   "cell_type": "code",
   "execution_count": null,
   "metadata": {
    "collapsed": true
   },
   "outputs": [],
   "source": [
    "# %load load_libs.py\n",
    "%matplotlib inline\n",
    "\n",
    "# Importeren van functionaliteiten\n",
    "#import matplotlib.pyplot as plt\n",
    "#import seaborn as sns\n",
    "import numpy as np\n",
    "import scipy as sp\n",
    "import pandas as pd\n",
    "import math\n",
    "from IPython.display import Image\n",
    "from ipywidgets import interact, fixed, FloatSlider, IntSlider, ToggleButtons\n",
    "\n",
    "%load_ext autoreload\n",
    "%autoreload 1\n",
    "import sys\n",
    "import os\n",
    "sys.path.append(\"functions\")\n",
    "%aimport general_functions\n"
   ]
  },
  {
   "cell_type": "code",
   "execution_count": null,
   "metadata": {
    "collapsed": false
   },
   "outputs": [],
   "source": [
    "import matplotlib.pyplot as plt\n",
    "%aimport force\n",
    "%aimport heat\n",
    "%aimport monod\n",
    "%aimport nitrobenzeen\n",
    "%aimport populatie"
   ]
  },
  {
   "cell_type": "markdown",
   "metadata": {},
   "source": [
    "# functions"
   ]
  },
  {
   "cell_type": "code",
   "execution_count": null,
   "metadata": {
    "collapsed": true
   },
   "outputs": [],
   "source": [
    "def addNoise(data, noise_level, fixseed=False):\n",
    "    '''\n",
    "    adds Gaussian white noise to numpy array (data), which is used as location\n",
    "    and with a certain standard deviation (scale)\n",
    "    '''\n",
    "    if fixseed:\n",
    "        np.random.seed(42)\n",
    "    return np.random.normal(loc=data, scale=np.abs(data)*noise_level)"
   ]
  },
  {
   "cell_type": "markdown",
   "metadata": {},
   "source": [
    "# generate synthetic data"
   ]
  },
  {
   "cell_type": "code",
   "execution_count": null,
   "metadata": {
    "collapsed": true
   },
   "outputs": [],
   "source": [
    "noise_level = 1# 5% relative noise"
   ]
  },
  {
   "cell_type": "markdown",
   "metadata": {},
   "source": [
    "## force"
   ]
  },
  {
   "cell_type": "code",
   "execution_count": null,
   "metadata": {
    "collapsed": true
   },
   "outputs": [],
   "source": [
    "functie_afgeleiden = force.model_afgeleiden\n",
    "model_name = \"force\""
   ]
  },
  {
   "cell_type": "code",
   "execution_count": null,
   "metadata": {
    "collapsed": false
   },
   "outputs": [],
   "source": [
    "df_base = general_functions.model(\n",
    "    np.arange(0, 50, 0.5), # tijdstappen\n",
    "    [-1, 0], # initiële condities\n",
    "    ['x1','x2'], # namen variabelen\n",
    "    functie_afgeleiden, # naam functie afgeleiden\n",
    "    returnDataFrame=True, plotresults=False,\n",
    "    # vanaf hier: functie specifieke parameters\n",
    "    b=0.2, m=1, k=0.3, Fex=0.)"
   ]
  },
  {
   "cell_type": "code",
   "execution_count": null,
   "metadata": {
    "collapsed": true
   },
   "outputs": [],
   "source": [
    "functioncall = \\\n",
    "\"\"\"general_functions.model(\n",
    "    np.arange(0, 50, 0.5), # tijdstappen\n",
    "    [-1, 0], # initiële condities\n",
    "    ['x1','x2'], # namen variabelen\n",
    "    functie_afgeleiden, # naam functie afgeleiden\n",
    "    returnDataFrame=True, plotresults=True,\n",
    "    # vanaf hier: functie specifieke parameters\n",
    "    b=0.2, m=1, k=0.3, Fex=0.)\"\"\"\n",
    "with open(os.path.join(os.curdir, \"data\", model_name+\"_functioncall.txt\"), \"w\") as text_file:\n",
    "    text_file.write(functioncall)"
   ]
  },
  {
   "cell_type": "code",
   "execution_count": null,
   "metadata": {
    "collapsed": false
   },
   "outputs": [],
   "source": [
    "df_noisy = pd.DataFrame(data=addNoise(df_base, noise_level, fixseed=True),\n",
    "                        columns=df_base.columns, index=df_base.index)\n",
    "fig, axs = plt.subplots(ncols=df_base.shape[1], figsize=(10,4))\n",
    "for col, ax in zip(df_base.columns, axs):\n",
    "    ax.plot(df_base[col], marker='o')\n",
    "    ax.plot(df_noisy[col], marker='o')\n",
    "    ax.set_xlabel(col)\n",
    "df_base.to_csv(os.path.join(os.curdir, \"data\", model_name+\"_data_orig.csv\"))\n",
    "df_noisy.to_csv(os.path.join(os.curdir, \"data\", model_name+\"_data_noisy_{}.csv\".format(noise_level)))"
   ]
  },
  {
   "cell_type": "markdown",
   "metadata": {
    "heading_collapsed": true
   },
   "source": [
    "## heat"
   ]
  },
  {
   "cell_type": "code",
   "execution_count": null,
   "metadata": {
    "collapsed": true,
    "hidden": true
   },
   "outputs": [],
   "source": [
    "functie_afgeleiden = heat.model_afgeleiden\n",
    "model_name = \"heat\""
   ]
  },
  {
   "cell_type": "code",
   "execution_count": null,
   "metadata": {
    "collapsed": false,
    "hidden": true
   },
   "outputs": [],
   "source": [
    "df_base = general_functions.model(\n",
    "    np.arange(0, 1100, 10), # tijdstappen\n",
    "    [ 0, 0, 310], # initiële condities\n",
    "    ['N2O5','N2O4','T'], # namen variabelen\n",
    "    functie_afgeleiden, # naam functie afgeleiden\n",
    "    returnDataFrame=True, plotresults=True,\n",
    "    # vanaf hier: functie specifieke parameters\n",
    "    Ar=1.54e13, Ea=100320, Q=0.5, V=100, rho=0.79,\n",
    "    Cp=52.82, U=250, A=2, delta_rH=-6000,\n",
    "    N2O5_in=0.02, N2O4_in=0, Tin=250, Tw=330)"
   ]
  },
  {
   "cell_type": "code",
   "execution_count": null,
   "metadata": {
    "collapsed": true,
    "hidden": true
   },
   "outputs": [],
   "source": [
    "functioncall = \\\n",
    "\"\"\"general_functions.model(\n",
    "    np.arange(0, 100, 10), # tijdstappen\n",
    "    [ 0, 0, 310], # initiële condities\n",
    "    ['N2O5','N2O4','T'], # namen variabelen\n",
    "    functie_afgeleiden, # naam functie afgeleiden\n",
    "    returnDataFrame=True, plotresults=True,\n",
    "    # vanaf hier: functie specifieke parameters\n",
    "    Ar=1.54e13, Ea=100320, Q=0.5, V=100, rho=0.79,\n",
    "    Cp=52.82, U=250, A=2, delta_rH=-6000,\n",
    "    N2O5_in=0.02, N2O4_in=0, Tin=250, Tw=330)\"\"\"\n",
    "with open(os.path.join(os.curdir, \"data\", model_name+\"_functioncall.txt\"), \"w\") as text_file:\n",
    "    text_file.write(functioncall)"
   ]
  },
  {
   "cell_type": "code",
   "execution_count": null,
   "metadata": {
    "collapsed": false,
    "hidden": true
   },
   "outputs": [],
   "source": [
    "df_noisy = pd.DataFrame(data=addNoise(df_base, noise_level, fixseed=True),\n",
    "                        columns=df_base.columns, index=df_base.index)\n",
    "fig, axs = plt.subplots(ncols=df_base.shape[1], figsize=(10,4))\n",
    "for col, ax in zip(df_base.columns, axs):\n",
    "    ax.plot(df_base[col], marker='o')\n",
    "    ax.plot(df_noisy[col], marker='o')\n",
    "    ax.set_xlabel(col)\n",
    "df_base.to_csv(os.path.join(os.curdir, \"data\", model_name+\"_data_orig.csv\"))\n",
    "df_noisy.to_csv(os.path.join(os.curdir, \"data\", model_name+\"_data_noisy_{}.csv\".format(noise_level)))"
   ]
  },
  {
   "cell_type": "markdown",
   "metadata": {
    "collapsed": false,
    "heading_collapsed": true
   },
   "source": [
    "## monod"
   ]
  },
  {
   "cell_type": "code",
   "execution_count": null,
   "metadata": {
    "collapsed": true,
    "hidden": true
   },
   "outputs": [],
   "source": [
    "functie_afgeleiden = monod.model_afgeleiden\n",
    "model_name = \"monod\""
   ]
  },
  {
   "cell_type": "code",
   "execution_count": null,
   "metadata": {
    "collapsed": false,
    "hidden": true
   },
   "outputs": [],
   "source": [
    "df_base = general_functions.model(\n",
    "    np.arange(0, 100, 1), # tijdstappen\n",
    "    [0.00005, 0.02], # initiële condities\n",
    "    ['X','S'], # namen variabelen\n",
    "    functie_afgeleiden, # naam functie afgeleiden\n",
    "    returnDataFrame=True, plotresults=True,\n",
    "    # vanaf hier: functie specifieke parameters\n",
    "    mu_max=0.3, Q=2, V=20, Y=0.67, K_S=0.01, S_in=0.02)"
   ]
  },
  {
   "cell_type": "code",
   "execution_count": null,
   "metadata": {
    "collapsed": true,
    "hidden": true
   },
   "outputs": [],
   "source": [
    "functioncall = \\\n",
    "\"\"\"df_base = general_functions.model(\n",
    "    np.arange(0, 100, 1), # tijdstappen\n",
    "    [0.00005, 0.02], # initiële condities\n",
    "    ['X','S'], # namen variabelen\n",
    "    functie_afgeleiden, # naam functie afgeleiden\n",
    "    returnDataFrame=True, plotresults=True,\n",
    "    # vanaf hier: functie specifieke parameters\n",
    "    mu_max=0.3, Q=2, V=20, Y=0.67, K_S=0.01, S_in=0.02)\"\"\"\n",
    "with open(os.path.join(os.curdir, \"data\", model_name+\"_functioncall.txt\"), \"w\") as text_file:\n",
    "    text_file.write(functioncall)"
   ]
  },
  {
   "cell_type": "code",
   "execution_count": null,
   "metadata": {
    "collapsed": false,
    "hidden": true
   },
   "outputs": [],
   "source": [
    "df_noisy = pd.DataFrame(data=addNoise(df_base, noise_level, fixseed=True),\n",
    "                        columns=df_base.columns, index=df_base.index)\n",
    "fig, axs = plt.subplots(ncols=df_base.shape[1], figsize=(10,4))\n",
    "for col, ax in zip(df_base.columns, axs):\n",
    "    ax.plot(df_base[col], marker='o')\n",
    "    ax.plot(df_noisy[col], marker='o')\n",
    "    ax.set_xlabel(col)\n",
    "df_base.to_csv(os.path.join(os.curdir, \"data\", model_name+\"_data_orig.csv\"))\n",
    "df_noisy.to_csv(os.path.join(os.curdir, \"data\", model_name+\"_data_noisy_{}.csv\".format(noise_level)))"
   ]
  },
  {
   "cell_type": "markdown",
   "metadata": {
    "heading_collapsed": true
   },
   "source": [
    "## nitrobenzeen"
   ]
  },
  {
   "cell_type": "code",
   "execution_count": null,
   "metadata": {
    "collapsed": true,
    "hidden": true
   },
   "outputs": [],
   "source": [
    "functie_afgeleiden = nitrobenzeen.model_afgeleiden\n",
    "model_name = \"nitrobenzeen\""
   ]
  },
  {
   "cell_type": "code",
   "execution_count": null,
   "metadata": {
    "collapsed": false,
    "hidden": true
   },
   "outputs": [],
   "source": [
    "df_base = general_functions.model(\n",
    "    np.arange(0, 1500, 1), # tijdstappen\n",
    "    [0.03, 0, 0], # initiële condities\n",
    "    ['C6H6','N2O5', 'C6H5NO2'], # namen variabelen\n",
    "    functie_afgeleiden, # naam functie afgeleiden\n",
    "    returnDataFrame=True, plotresults=True,\n",
    "    # vanaf hier: functie specifieke parameters\n",
    "    k=2, Q=10, V=3000, C6H6_in=0, N2O5_in=0.03)"
   ]
  },
  {
   "cell_type": "code",
   "execution_count": null,
   "metadata": {
    "collapsed": true,
    "hidden": true
   },
   "outputs": [],
   "source": [
    "functioncall = \\\n",
    "\"\"\"general_functions.model(\n",
    "    np.arange(0, 1500, 1), # tijdstappen\n",
    "    [0.03, 0, 0], # initiële condities\n",
    "    ['C6H6','N2O5', 'C6H5NO2'], # namen variabelen\n",
    "    functie_afgeleiden, # naam functie afgeleiden\n",
    "    returnDataFrame=True, plotresults=True,\n",
    "    # vanaf hier: functie specifieke parameters\n",
    "    k=2, Q=10, V=3000, C6H6_in=0, N2O5_in=0.03)\"\"\"\n",
    "with open(os.path.join(os.curdir, \"data\", model_name+\"_functioncall.txt\"), \"w\") as text_file:\n",
    "    text_file.write(functioncall)"
   ]
  },
  {
   "cell_type": "code",
   "execution_count": null,
   "metadata": {
    "collapsed": false,
    "hidden": true
   },
   "outputs": [],
   "source": [
    "df_noisy = pd.DataFrame(data=addNoise(df_base, noise_level, fixseed=True),\n",
    "                        columns=df_base.columns, index=df_base.index)\n",
    "fig, axs = plt.subplots(ncols=df_base.shape[1], figsize=(10,4))\n",
    "for col, ax in zip(df_base.columns, axs):\n",
    "    ax.plot(df_base[col], marker='o')\n",
    "    ax.plot(df_noisy[col], marker='o')\n",
    "    ax.set_xlabel(col)\n",
    "df_base.to_csv(os.path.join(os.curdir, \"data\", model_name+\"_data_orig.csv\"))\n",
    "df_noisy.to_csv(os.path.join(os.curdir, \"data\", model_name+\"_data_noisy_{}.csv\".format(noise_level)))"
   ]
  },
  {
   "cell_type": "markdown",
   "metadata": {
    "heading_collapsed": true
   },
   "source": [
    "## populatie"
   ]
  },
  {
   "cell_type": "code",
   "execution_count": null,
   "metadata": {
    "collapsed": true,
    "hidden": true
   },
   "outputs": [],
   "source": [
    "functie_afgeleiden = populatie.model_afgeleiden\n",
    "model_name = \"populatie\""
   ]
  },
  {
   "cell_type": "code",
   "execution_count": null,
   "metadata": {
    "collapsed": false,
    "hidden": true
   },
   "outputs": [],
   "source": [
    "df_base = general_functions.model(\n",
    "    np.arange(0., 22, 0.1), # tijdstappen\n",
    "    [3, 1000, 1000], # initiële condities\n",
    "    ['v','m1', 'm2'], # namen variabelen\n",
    "    functie_afgeleiden, # naam functie afgeleiden\n",
    "    returnDataFrame=True, plotresults=True,\n",
    "    # vanaf hier: functie specifieke parameters\n",
    "    r_v=1, K_v=10, K_m=8000, d_nv=0.06, d_n1=0.9, d_n2=1, r_1=14.2, r_2=12.1,\n",
    "    alpha_1=0.00005, alpha_2=0.00006, m2_in=100)"
   ]
  },
  {
   "cell_type": "code",
   "execution_count": null,
   "metadata": {
    "collapsed": true,
    "hidden": true
   },
   "outputs": [],
   "source": [
    "functioncall = \\\n",
    "\"\"\"general_functions.model(\n",
    "    np.arange(0., 22, 0.1), # tijdstappen\n",
    "    [3, 1000, 1000], # initiële condities\n",
    "    ['v','m1', 'm2'], # namen variabelen\n",
    "    functie_afgeleiden, # naam functie afgeleiden\n",
    "    returnDataFrame=True, plotresults=True,\n",
    "    # vanaf hier: functie specifieke parameters\n",
    "    r_v=1, K_v=10, K_m=8000, d_nv=0.06, d_n1=0.9, d_n2=1, r_1=14.2, r_2=12.1,\n",
    "    alpha_1=0.00005, alpha_2=0.00006, m2_in=100)\"\"\"\n",
    "with open(os.path.join(os.curdir, \"data\", model_name+\"_functioncall.txt\"), \"w\") as text_file:\n",
    "    text_file.write(functioncall)"
   ]
  },
  {
   "cell_type": "code",
   "execution_count": null,
   "metadata": {
    "collapsed": false,
    "hidden": true
   },
   "outputs": [],
   "source": [
    "df_noisy = pd.DataFrame(data=addNoise(df_base, noise_level, fixseed=True),\n",
    "                        columns=df_base.columns, index=df_base.index)\n",
    "fig, axs = plt.subplots(ncols=df_base.shape[1], figsize=(10,4))\n",
    "for col, ax in zip(df_base.columns, axs):\n",
    "    ax.plot(df_base[col], marker='o')\n",
    "    ax.plot(df_noisy[col], marker='o')\n",
    "    ax.set_xlabel(col)\n",
    "df_base.to_csv(os.path.join(os.curdir, \"data\", model_name+\"_data_orig.csv\"))\n",
    "df_noisy.to_csv(os.path.join(os.curdir, \"data\", model_name+\"_data_noisy_{}.csv\".format(noise_level)))"
   ]
  },
  {
   "cell_type": "code",
   "execution_count": null,
   "metadata": {
    "collapsed": true,
    "hidden": true
   },
   "outputs": [],
   "source": []
  }
 ],
 "metadata": {
  "anaconda-cloud": {},
  "kernelspec": {
   "display_name": "Python [conda env:py35]",
   "language": "python",
   "name": "conda-env-py35-py"
  },
  "language_info": {
   "codemirror_mode": {
    "name": "ipython",
    "version": 3
   },
   "file_extension": ".py",
   "mimetype": "text/x-python",
   "name": "python",
   "nbconvert_exporter": "python",
   "pygments_lexer": "ipython3",
   "version": "3.5.1"
  }
 },
 "nbformat": 4,
 "nbformat_minor": 2
}
