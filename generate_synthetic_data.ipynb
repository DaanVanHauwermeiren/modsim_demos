{
 "cells": [
  {
   "cell_type": "markdown",
   "metadata": {},
   "source": [
    "# load libs and functions"
   ]
  },
  {
   "cell_type": "code",
   "execution_count": null,
   "metadata": {
    "collapsed": true
   },
   "outputs": [],
   "source": [
    "%matplotlib inline"
   ]
  },
  {
   "cell_type": "code",
   "execution_count": null,
   "metadata": {
    "collapsed": true
   },
   "outputs": [],
   "source": [
    "# Importeren van functionaliteiten\n",
    "import matplotlib.pyplot as plt\n",
    "#import seaborn as sns\n",
    "import numpy as np\n",
    "import scipy as sp\n",
    "import pandas as pd\n",
    "import math\n",
    "from IPython.display import Image\n",
    "from ipywidgets import interact, fixed\n",
    "%load_ext autoreload\n",
    "%autoreload 1"
   ]
  },
  {
   "cell_type": "code",
   "execution_count": null,
   "metadata": {
    "collapsed": false
   },
   "outputs": [],
   "source": [
    "import sys\n",
    "import os\n",
    "sys.path.append(\"functions\")\n",
    "%aimport general_functions\n",
    "%aimport heat"
   ]
  },
  {
   "cell_type": "markdown",
   "metadata": {},
   "source": [
    "# functions"
   ]
  },
  {
   "cell_type": "code",
   "execution_count": null,
   "metadata": {
    "collapsed": true
   },
   "outputs": [],
   "source": [
    "def addNoise(data, noise_level, fixseed=False):\n",
    "    '''\n",
    "    adds Gaussian white noise to numpy array (data), which is used as location\n",
    "    and with a certain standard deviation (scale)\n",
    "    '''\n",
    "    if fixseed:\n",
    "        np.random.seed(42)\n",
    "    return np.random.normal(loc=data, scale=data*noise_level)"
   ]
  },
  {
   "cell_type": "markdown",
   "metadata": {},
   "source": [
    "# generate synthetic data"
   ]
  },
  {
   "cell_type": "code",
   "execution_count": null,
   "metadata": {
    "collapsed": true
   },
   "outputs": [],
   "source": [
    "noise_level = 0.05 # 5% relative noise"
   ]
  },
  {
   "cell_type": "markdown",
   "metadata": {},
   "source": [
    "## heat"
   ]
  },
  {
   "cell_type": "code",
   "execution_count": null,
   "metadata": {
    "collapsed": true
   },
   "outputs": [],
   "source": [
    "functie_afgeleiden = heat.model_afgeleiden\n",
    "model_name = \"heat\""
   ]
  },
  {
   "cell_type": "code",
   "execution_count": null,
   "metadata": {
    "collapsed": false
   },
   "outputs": [],
   "source": [
    "df_base, _ = general_functions.model(\n",
    "    np.arange(0, 1100, 10), # tijdstappen\n",
    "    [ 0, 0, 310], # initiële condities\n",
    "    ['N2O5','N2O4','T'], # namen variabelen\n",
    "    functie_afgeleiden, # naam functie afgeleiden\n",
    "    returnDataFrame=True, plotresults=True,\n",
    "    # vanaf hier: functie specifieke parameters\n",
    "    Ar=1.54e13, Ea=100320, Q=0.5, V=100, rho=0.79,\n",
    "    Cp=52.82, U=250, A=2, delta_rH=-6000,\n",
    "    N2O5_in=0.02, N2O4_in=0, Tin=250, Tw=330)"
   ]
  },
  {
   "cell_type": "code",
   "execution_count": null,
   "metadata": {
    "collapsed": true
   },
   "outputs": [],
   "source": [
    "functioncall = \\\n",
    "\"\"\"general_functions.model(\n",
    "    np.arange(0, 100, 10), # tijdstappen\n",
    "    [ 0, 0, 310], # initiële condities\n",
    "    ['N2O5','N2O4','T'], # namen variabelen\n",
    "    functie_afgeleiden, # naam functie afgeleiden\n",
    "    returnDataFrame=True, plotresults=True,\n",
    "    # vanaf hier: functie specifieke parameters\n",
    "    Ar=1.54e13, Ea=100320, Q=0.5, V=100, rho=0.79,\n",
    "    Cp=52.82, U=250, A=2, delta_rH=-6000,\n",
    "    N2O5_in=0.02, N2O4_in=0, Tin=250, Tw=330)\"\"\"\n",
    "with open(os.path.join(os.curdir, \"data\", \"heat_functioncall.txt\"), \"w\") as text_file:\n",
    "    text_file.write(functioncall)"
   ]
  },
  {
   "cell_type": "code",
   "execution_count": null,
   "metadata": {
    "collapsed": false
   },
   "outputs": [],
   "source": [
    "df_noisy = pd.DataFrame(data=addNoise(df_base, noise_level, fixseed=True),\n",
    "                        columns=df_base.columns, index=df_base.index)\n",
    "fig, axs = plt.subplots(ncols=df_base.shape[1], figsize=(10,4))\n",
    "for col, ax in zip(df_base.columns, axs):\n",
    "    ax.plot(df_base[col], marker='o')\n",
    "    ax.plot(df_noisy[col], marker='o')\n",
    "    ax.set_xlabel(col)\n",
    "df_base.to_csv(os.path.join(os.curdir, \"data\", model_name+\"_data_orig.csv\"))\n",
    "df_noisy.to_csv(os.path.join(os.curdir, \"data\", model_name+\"_data_noisy_{}.csv\".format(noise_level)))"
   ]
  },
  {
   "cell_type": "code",
   "execution_count": null,
   "metadata": {
    "collapsed": false
   },
   "outputs": [],
   "source": []
  }
 ],
 "metadata": {
  "anaconda-cloud": {},
  "kernelspec": {
   "display_name": "Python [conda env:py35]",
   "language": "python",
   "name": "conda-env-py35-py"
  },
  "language_info": {
   "codemirror_mode": {
    "name": "ipython",
    "version": 3
   },
   "file_extension": ".py",
   "mimetype": "text/x-python",
   "name": "python",
   "nbconvert_exporter": "python",
   "pygments_lexer": "ipython3",
   "version": "3.5.1"
  }
 },
 "nbformat": 4,
 "nbformat_minor": 2
}
