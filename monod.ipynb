{
 "cells": [
  {
   "cell_type": "markdown",
   "metadata": {},
   "source": [
    "## Model simuleren: Monod model"
   ]
  },
  {
   "cell_type": "markdown",
   "metadata": {},
   "source": [
    "$$\\frac{dX}{dt}= \\mu_{max}\\frac{S}{K_{S}+S}X - \\frac{Q}{V}X$$\n",
    "\n",
    "$$\\frac{dS}{dt}= -\\frac{1}{Y} \\mu_{max}\\frac{S}{K_{S}+S}X + \\frac{Q}{V}(S_{in} - S)$$"
   ]
  },
  {
   "cell_type": "code",
   "execution_count": null,
   "metadata": {
    "collapsed": true
   },
   "outputs": [],
   "source": [
    "%matplotlib inline"
   ]
  },
  {
   "cell_type": "code",
   "execution_count": null,
   "metadata": {
    "collapsed": false
   },
   "outputs": [],
   "source": [
    "# Importeren van functionaliteiten\n",
    "import matplotlib.pyplot as plt\n",
    "#import seaborn as sns\n",
    "import numpy as np\n",
    "import scipy as sp\n",
    "import pandas as pd\n",
    "import math\n",
    "from IPython.display import Image\n",
    "from ipywidgets import interact, fixed, FloatSlider\n",
    "%load_ext autoreload\n",
    "%autoreload 1"
   ]
  },
  {
   "cell_type": "code",
   "execution_count": null,
   "metadata": {
    "collapsed": true
   },
   "outputs": [],
   "source": [
    "import sys\n",
    "import os\n",
    "sys.path.append(\"functions\")\n",
    "%aimport general_functions\n",
    "%aimport monod"
   ]
  },
  {
   "cell_type": "code",
   "execution_count": null,
   "metadata": {
    "collapsed": true
   },
   "outputs": [],
   "source": [
    "functie_afgeleiden = monod.model_afgeleiden"
   ]
  },
  {
   "cell_type": "markdown",
   "metadata": {},
   "source": [
    "#### Praktische info\n",
    "Functiedefinitie:\n",
    "\n",
    "    Monod.Monod_model(tijdstappen, X_0, S_0, mu_max, Q, V, Y, K_S, S_in)\n",
    "\n",
    "Bij de standaard situatie voor onze case werden volgende waarden voor initiele condities, parameters en inputs gebruikt:\n",
    "\n",
    "    Monod.Monod_model(np.arange(0, 50, 0.1), 0.00001, 0, 0.0003, 1, 5000, 0.5, 0.0002, 0.001) "
   ]
  },
  {
   "cell_type": "markdown",
   "metadata": {},
   "source": [
    "## Model simuleren"
   ]
  },
  {
   "cell_type": "code",
   "execution_count": null,
   "metadata": {
    "collapsed": false
   },
   "outputs": [],
   "source": [
    "df, _ = general_functions.model(\n",
    "    np.arange(0, 200000, 10), # tijdstappen\n",
    "    [0.00001, 0], # initiële condities\n",
    "    ['X','S'], # namen variabelen\n",
    "    functie_afgeleiden, # naam functie afgeleiden\n",
    "    returnDataFrame=True, plotresults=True,\n",
    "    # vanaf hier: functie specifieke parameters\n",
    "    mu_max=0.0003, Q=1, V=5000, Y=0.5, K_S=0.0002, S_in=0.001)"
   ]
  },
  {
   "cell_type": "markdown",
   "metadata": {},
   "source": [
    "$$\\frac{dX}{dt}= \\mu_{max}\\frac{S}{K_{S}+S}X - \\frac{Q}{V}X$$\n",
    "\n",
    "$$\\frac{dS}{dt}= -\\frac{1}{Y} \\mu_{max}\\frac{S}{K_{S}+S}X + \\frac{Q}{V}(S_{in} - S)$$"
   ]
  },
  {
   "cell_type": "markdown",
   "metadata": {},
   "source": [
    "## Impact initiële conditie"
   ]
  },
  {
   "cell_type": "code",
   "execution_count": null,
   "metadata": {
    "collapsed": true
   },
   "outputs": [],
   "source": [
    "def interactive_model(X, S):\n",
    "    general_functions.model(\n",
    "        np.arange(0, 200000, 10), # tijdstappen\n",
    "        [X, S], # initiële condities\n",
    "        ['X','S'], # namen variabelen\n",
    "        functie_afgeleiden, # naam functie afgeleiden\n",
    "        returnDataFrame=True, plotresults=True,\n",
    "        # vanaf hier: functie specifieke parameters\n",
    "        mu_max=0.0003, Q=1, V=5000, Y=0.5, K_S=0.0002, S_in=0.001)"
   ]
  },
  {
   "cell_type": "code",
   "execution_count": null,
   "metadata": {
    "collapsed": false
   },
   "outputs": [],
   "source": [
    "interact(interactive_model,\n",
    "         X=FloatSlider(value=0.1, min=0, max=0.001, step=0.0001, description='X', continuous_update=False),\n",
    "         S=FloatSlider(value=0.1, min=0, max=0.001, step=0.0001, description='S', continuous_update=False))"
   ]
  },
  {
   "cell_type": "markdown",
   "metadata": {},
   "source": [
    "$$\\frac{dX}{dt}= \\mu_{max}\\frac{S}{K_{S}+S}X - \\frac{Q}{V}X$$\n",
    "\n",
    "$$\\frac{dS}{dt}= -\\frac{1}{Y} \\mu_{max}\\frac{S}{K_{S}+S}X + \\frac{Q}{V}(S_{in} - S)$$"
   ]
  },
  {
   "cell_type": "markdown",
   "metadata": {},
   "source": [
    "## Impact parameters (deel 1)"
   ]
  },
  {
   "cell_type": "code",
   "execution_count": null,
   "metadata": {
    "collapsed": false
   },
   "outputs": [],
   "source": [
    "interact(general_functions.model,\n",
    "         tijdstappen=fixed(np.arange(0, 200000, 10)), # tijdstappen\n",
    "         init=fixed([0.00001, 0]), # initiële condities\n",
    "         varnames=fixed(['X','S']), # namen variabelen\n",
    "         f=fixed(functie_afgeleiden), # naam functie afgeleiden\n",
    "         returnDataFrame=fixed(False), plotresults=fixed(True),\n",
    "         # vanaf hier: functie specifieke parameters\n",
    "         mu_max=(0.,0.001, 0.0001),\n",
    "         Q=fixed(1), V=fixed(5000),\n",
    "         Y=FloatSlider(value=0.5, min=0.1, max=1, step=0.01, description='Y', continuous_update=False),\n",
    "         K_S=FloatSlider(value=0.0005, min=0., max=0.001, step=0.0001, description='K_s', continuous_update=False), \n",
    "         S_in=fixed(1e-3))"
   ]
  },
  {
   "cell_type": "markdown",
   "metadata": {},
   "source": [
    "$$\\frac{dX}{dt}= \\mu_{max}\\frac{S}{K_{S}+S}X - \\frac{Q}{V}X$$\n",
    "\n",
    "$$\\frac{dS}{dt}= -\\frac{1}{Y} \\mu_{max}\\frac{S}{K_{S}+S}X + \\frac{Q}{V}(S_{in} - S)$$"
   ]
  },
  {
   "cell_type": "markdown",
   "metadata": {},
   "source": [
    "## Impact parameters (deel 2)"
   ]
  },
  {
   "cell_type": "code",
   "execution_count": null,
   "metadata": {
    "collapsed": false
   },
   "outputs": [],
   "source": [
    "interact(general_functions.model,\n",
    "         tijdstappen=fixed(np.arange(0, 200000, 10)), # tijdstappen\n",
    "         init=fixed([0.00001, 0]), # initiële condities\n",
    "         varnames=fixed(['X','S']), # namen variabelen\n",
    "         f=fixed(functie_afgeleiden), # naam functie afgeleiden\n",
    "         returnDataFrame=fixed(False), plotresults=fixed(True),\n",
    "         # vanaf hier: functie specifieke parameters\n",
    "         mu_max=fixed(3e-4),\n",
    "         Q=FloatSlider(value=1, min=0, max=2, step=0.1, description='Q', continuous_update=False),\n",
    "         V=FloatSlider(value=5000, min=4000, max=6000, step=100, description='V', continuous_update=False),\n",
    "         Y=fixed(0.5), K_S=fixed(2e-4), \n",
    "         S_in=FloatSlider(value=0.1, min=0., max=0.01, step=0.001, description='S_in', continuous_update=False))"
   ]
  },
  {
   "cell_type": "markdown",
   "metadata": {},
   "source": [
    "$$\\frac{dX}{dt}= \\mu_{max}\\frac{S}{K_{S}+S}X - \\frac{Q}{V}X$$\n",
    "\n",
    "$$\\frac{dS}{dt}= -\\frac{1}{Y} \\mu_{max}\\frac{S}{K_{S}+S}X + \\frac{Q}{V}(S_{in} - S)$$"
   ]
  },
  {
   "cell_type": "markdown",
   "metadata": {},
   "source": [
    "# Sensitiviteit"
   ]
  },
  {
   "cell_type": "code",
   "execution_count": null,
   "metadata": {
    "collapsed": false
   },
   "outputs": [],
   "source": [
    "df_sens = general_functions.sensitiviteit(\n",
    "   np.arange(0, 200000, 10), # tijdstappen\n",
    "    [0.00001, 0], # initiële condities\n",
    "    ['X','S'], # namen variabelen\n",
    "    functie_afgeleiden, # naam functie afgeleiden\n",
    "    parameternaam='mu_max',\n",
    "    # vanaf hier: functie specifieke parameters\n",
    "    mu_max=0.0003, Q=1, V=5000, Y=0.5, K_S=0.0002, S_in=0.001)"
   ]
  },
  {
   "cell_type": "code",
   "execution_count": null,
   "metadata": {
    "collapsed": false
   },
   "outputs": [],
   "source": [
    "df_sens.plot()"
   ]
  },
  {
   "cell_type": "code",
   "execution_count": null,
   "metadata": {
    "collapsed": true
   },
   "outputs": [],
   "source": []
  }
 ],
 "metadata": {
  "anaconda-cloud": {},
  "kernelspec": {
   "display_name": "Python [conda env:py35]",
   "language": "python",
   "name": "conda-env-py35-py"
  },
  "language_info": {
   "codemirror_mode": {
    "name": "ipython",
    "version": 3
   },
   "file_extension": ".py",
   "mimetype": "text/x-python",
   "name": "python",
   "nbconvert_exporter": "python",
   "pygments_lexer": "ipython3",
   "version": "3.5.1"
  },
  "widgets": {
   "state": {
    "c2c80018056c485197a826252384c673": {
     "views": [
      {
       "cell_index": 18
      }
     ]
    },
    "ebb9e37a40894fac80b69d51cf845be3": {
     "views": [
      {
       "cell_index": 12
      }
     ]
    },
    "f61d2508cc624199ad6cf04a230e5b5e": {
     "views": [
      {
       "cell_index": 15
      }
     ]
    }
   },
   "version": "1.2.0"
  }
 },
 "nbformat": 4,
 "nbformat_minor": 1
}
