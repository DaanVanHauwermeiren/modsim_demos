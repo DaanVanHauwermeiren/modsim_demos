{
 "cells": [
  {
   "cell_type": "markdown",
   "metadata": {},
   "source": [
    "Welkom bij deze tutorial voor Jupyter notebooks. Hierin worden de basics voor een notebook (de omgeving) en Python (de hier gebruikte programmeertaal) niet alleen uitgelegd, je kan er ook zelf mee aan de slag gaan, want dit hele document is volledig interactief!"
   ]
  },
  {
   "cell_type": "markdown",
   "metadata": {
    "slideshow": {
     "slide_type": "slide"
    }
   },
   "source": [
    "# Wat is een Jupyter notebook?"
   ]
  },
  {
   "cell_type": "markdown",
   "metadata": {},
   "source": [
    "In deze lessenreeks zullen we per cursusonderdeel werken in een Jupyter notebook. Een notebook is een omgeving, waarin zowel code kan geschreven en uitgevoerd worden, als tekst en figuren kunnen worden gebruikt, wat dit een ideale tool maakt voor rapportage. Alle bouwstenen worden in afzonderlijke cellen geplaatst (ook deze paragraaf is een cel!) en vormen samen de notebook. Om een cel te selecteren en de inhoud ervan te wijzigen, klik je eenvoudig op de cel (voor een cel van het type markdown, zoals deze paragraaf, dien je te dubbelklikken om toegang te krijgen tot de teksteditor). De inhoud van een geselecteerde cel wordt uitgevoerd door vanuit deze cel de toetsencombinatie **Shift + Enter** te drukken. Probeer dit gerust al eens uit op deze paragraaf!"
   ]
  },
  {
   "cell_type": "markdown",
   "metadata": {},
   "source": [
    "Bovenaan zie je twee werkbalken. De onderste werkbalk bevat enkel shortcuts voor bewerkingen die ook met de bovenstaande werkbalk op te roepen zijn, en is voldoende voor het meeste werk in deze cursus. Probeer zelf even een aantal van deze knoppen uit!"
   ]
  },
  {
   "cell_type": "markdown",
   "metadata": {},
   "source": [
    "Er zijn verschillende mogelijkheden voor de aard van deze cellen: code, markdown, raw text en headings. Je ziet deze types ook terug in de onderste werkbalk bij elke cel die je selecteert, of zelf aanmaakt. We overlopen ze even:"
   ]
  },
  {
   "cell_type": "markdown",
   "metadata": {
    "slideshow": {
     "slide_type": "slide"
    }
   },
   "source": [
    "## Code"
   ]
  },
  {
   "cell_type": "markdown",
   "metadata": {},
   "source": [
    "Hieronder staan twee codecellen, geschreven in de programmeertaal Python (straks meer hierover). Probeer ook deze cellen eens uit te voeren door ze te selecteren, en vervolgens **Shift + Enter** te drukken."
   ]
  },
  {
   "cell_type": "code",
   "execution_count": null,
   "metadata": {
    "ExecuteTime": {
     "end_time": "2017-03-05T09:56:13.731668",
     "start_time": "2017-03-05T09:56:13.725247"
    },
    "collapsed": false
   },
   "outputs": [],
   "source": [
    "print('Hello world')"
   ]
  },
  {
   "cell_type": "code",
   "execution_count": null,
   "metadata": {
    "ExecuteTime": {
     "end_time": "2017-03-05T09:56:14.571307",
     "start_time": "2017-03-05T09:56:14.567650"
    },
    "collapsed": false
   },
   "outputs": [],
   "source": [
    "getal = 10\n",
    "print(getal + 5)"
   ]
  },
  {
   "cell_type": "markdown",
   "metadata": {},
   "source": [
    "De eerste cel voert het commando **print** uit op een stuk tekst, waardoor dit wordt uitgeschreven naar het scherm. De tweede cel creëert een variabele met als waarde 10, en voert nadien het commando **print** uit op het resultaat van de gegeven bewerking, waardoor ook dit naar het scherm uitgeschreven wordt. Maar later meer over variabelen."
   ]
  },
  {
   "cell_type": "markdown",
   "metadata": {},
   "source": [
    " **Belangrijk is dat je elk stuk code in deze notebook even uitvoert, want sommige stukken code zullen enkel werken indien je de voorgaande code hebt uitgevoerd!**"
   ]
  },
  {
   "cell_type": "markdown",
   "metadata": {
    "slideshow": {
     "slide_type": "slide"
    }
   },
   "source": [
    "## Markdown"
   ]
  },
  {
   "cell_type": "markdown",
   "metadata": {},
   "source": [
    "Dit is een Markdown cel, waarbij we gebruik maken van de zogenaamde markdown-syntax, hetgeen werkt zoals een andere tekst-editor. Je kan dingen **vet** maken of *cursief*, etc..."
   ]
  },
  {
   "cell_type": "markdown",
   "metadata": {},
   "source": [
    "In Markdown kan je ook eenvoudig (Latex) commando's ingeven om wiskundige formules weer te geven (zoals bv. het model dat we in deze cursus zullen gebruiken):\n",
    "$$\\frac{dBZV}{dt}=BZV_{in} - k_1 .BZV$$\n",
    "$$\\frac{dOZ}{dt}=k_2 .(OZ_{sat}-OZ) - k_1 .BZV$$"
   ]
  },
  {
   "cell_type": "markdown",
   "metadata": {
    "slideshow": {
     "slide_type": "subslide"
    }
   },
   "source": [
    "Ook tabellen zijn mogelijk in Markdown:\n",
    " \n",
    " Symbool | verklaring\n",
    " --- | --- \n",
    " $BZV$      | biologische zuurstofvraag\n",
    " $OZ$\t    | opgeloste zuurstof\n",
    " $BZV_{in}$\t\t  | input BZV\n",
    " $OZ_{sat}$\t\t  | saturatieconcentratie opgeloste zuurstof\n",
    " $k_1$\t\t      | bacteriële degradatiesnelheid\n",
    " $k_2$\t\t      | reäeratieconstante\n"
   ]
  },
  {
   "cell_type": "markdown",
   "metadata": {
    "slideshow": {
     "slide_type": "subslide"
    }
   },
   "source": [
    "Je kan ook code schrijven in Markdown, maar dan enkel ter illustratie, deze zal niet worden uitgevoerd:"
   ]
  },
  {
   "cell_type": "markdown",
   "metadata": {},
   "source": [
    "```python\n",
    "getal = 12\n",
    "print getal\n",
    "```"
   ]
  },
  {
   "cell_type": "markdown",
   "metadata": {},
   "source": [
    "Mensen die html-kennen, kunnen dat ook gebruiken in cellen van het type Markdown, vermits die syntax ook herkend zal worden (bv. <b> Een vette tekst met &#60;b&#62; </b> of <i>een cursieve tekst met &#60;i&#62; </i>). Voor alle andere mogelijkheden met Markdown, verwijzen jullie graag door naar deze handige Cheatsheet: https://github.com/adam-p/markdown-here/wiki/Markdown-Cheatsheet\n"
   ]
  },
  {
   "cell_type": "markdown",
   "metadata": {
    "slideshow": {
     "slide_type": "slide"
    }
   },
   "source": [
    "## Raw NBConvert"
   ]
  },
  {
   "cell_type": "raw",
   "metadata": {},
   "source": [
    "Deze tekst wordt gewoon zoals in wordpad,... weergegeven"
   ]
  },
  {
   "cell_type": "markdown",
   "metadata": {},
   "source": [
    "## Heading"
   ]
  },
  {
   "cell_type": "markdown",
   "metadata": {},
   "source": [
    "Als laatste kunnen ook cellen van het type heading aangemaakt worden, maar zoals Jupyter zal aangeven wanneer je dit doet, zal dit binnenkort verdwijnen, en kan je headers gewoon in Markdown cellen typen als # titel, ## ondertitel, ### onderondertitel etc."
   ]
  },
  {
   "cell_type": "markdown",
   "metadata": {},
   "source": [
    "### h3"
   ]
  },
  {
   "cell_type": "markdown",
   "metadata": {},
   "source": [
    "#### h4"
   ]
  },
  {
   "cell_type": "markdown",
   "metadata": {},
   "source": [
    "##### h5"
   ]
  },
  {
   "cell_type": "markdown",
   "metadata": {
    "slideshow": {
     "slide_type": "slide"
    }
   },
   "source": [
    "# Wat is Python?"
   ]
  },
  {
   "cell_type": "markdown",
   "metadata": {},
   "source": [
    "Python is een programmeertaal die specifiek geschikt is voor wetenschappelijk programmeren. Dit betekent dat de syntax eenvoudig te lezen is, je heel veel functionaliteiten ter beschikking hebt voor typisch wetenschappelijk werk en er een balans is tussen flexibiliteit en toegankelijkheid. Bovendien is Python volledig gratis en *open source*, zodat je het overal en altijd kan gebruiken voor je werk én het komt met een heleboel krachtige modules voor data-analyse, visualisatie en modelleren, *packages* genaamd."
   ]
  },
  {
   "cell_type": "markdown",
   "metadata": {},
   "source": [
    "## Packages"
   ]
  },
  {
   "cell_type": "markdown",
   "metadata": {},
   "source": [
    "Allereerst, om ervoor te zorgen dat je figuren in deze notebook zullen verschijnen, voer even onderstaande lijn code uit:"
   ]
  },
  {
   "cell_type": "code",
   "execution_count": 1,
   "metadata": {
    "ExecuteTime": {
     "end_time": "2017-03-05T10:02:50.586537",
     "start_time": "2017-03-05T10:02:49.329930"
    },
    "collapsed": false,
    "slideshow": {
     "slide_type": "skip"
    }
   },
   "outputs": [],
   "source": [
    "%matplotlib inline"
   ]
  },
  {
   "cell_type": "markdown",
   "metadata": {},
   "source": [
    "Onderstaande code laadt nu een aantal packages in via het commando **import**, waardoor alle functionaliteiten ervan beschikbaar worden."
   ]
  },
  {
   "cell_type": "code",
   "execution_count": 2,
   "metadata": {
    "ExecuteTime": {
     "end_time": "2017-03-05T10:02:57.518255",
     "start_time": "2017-03-05T10:02:56.638203"
    },
    "collapsed": false,
    "slideshow": {
     "slide_type": "slide"
    }
   },
   "outputs": [],
   "source": [
    "# Importeren van packages\n",
    "import matplotlib.pyplot as plt  # package voor plotten\n",
    "import seaborn       # package voor geavanceerd plotten\n",
    "import numpy as np   # package voor wiskundige functies\n",
    "import pandas as pd  # package voor data-behandeling"
   ]
  },
  {
   "cell_type": "markdown",
   "metadata": {},
   "source": [
    "Merk op dat alle tekst gevolgd door een hashtag (#) in een codecel in het grijs komt te staan. Dit wordt door Python aanzien als commentaar die wat meer uitlegt geeft bij je code, maar die Python gewoon negeert. Het is aan te raden dit zelf veel te doen, zodat je code voor jezelf en voor anderen begrijpbaar wordt."
   ]
  },
  {
   "cell_type": "markdown",
   "metadata": {},
   "source": [
    "## Variabelen"
   ]
  },
  {
   "cell_type": "markdown",
   "metadata": {},
   "source": [
    "In de code zullen we gebruik maken van verschillende types variabelen: *number* (*int* en *float*), *string*, *list*, en *dictionary*"
   ]
  },
  {
   "cell_type": "code",
   "execution_count": null,
   "metadata": {
    "collapsed": true
   },
   "outputs": [],
   "source": [
    "# Een int (integer) is een geheel getal\n",
    "i = 5"
   ]
  },
  {
   "cell_type": "code",
   "execution_count": null,
   "metadata": {
    "collapsed": true
   },
   "outputs": [],
   "source": [
    "# Een float is een kommagetal\n",
    "f1 = 5.3\n",
    "f2 = 6.  # Dit betekent 6.0 (zo kan je Python een geheel getal toch als float laten opslaan)"
   ]
  },
  {
   "cell_type": "code",
   "execution_count": null,
   "metadata": {
    "collapsed": true
   },
   "outputs": [],
   "source": [
    "# Een string is een stuk tekst en wordt aangeven met enkele aanhalingstekens ('')\n",
    "s = 'Hello world'"
   ]
  },
  {
   "cell_type": "code",
   "execution_count": 6,
   "metadata": {
    "ExecuteTime": {
     "end_time": "2017-03-05T10:03:12.603601",
     "start_time": "2017-03-05T10:03:12.598515"
    },
    "collapsed": false
   },
   "outputs": [
    {
     "name": "stdout",
     "output_type": "stream",
     "text": [
      "123\n",
      "1.23\n"
     ]
    }
   ],
   "source": [
    "# Een list kan verschillende elementen samen bevatten (bv. een int, string en float)\n",
    "# Een list is steeds geordend, dus de volgorde waarin je de elementen in de lijst\n",
    "# plaatst is van belang! Merk hierbij op dat Python telt vanaf 0!\n",
    "l = [123, 'Spam', 1.23]\n",
    "print(l[0])    # het eerste element van de lijst opvragen (Python telt vanaf 0!)\n",
    "print(l[-1])   # met een negatieve index wordt van achteraan geteld"
   ]
  },
  {
   "cell_type": "code",
   "execution_count": null,
   "metadata": {
    "collapsed": false
   },
   "outputs": [],
   "source": [
    "# Een dictionary is een niet-geordende tabel, waarbij op een efficiente manier\n",
    "# keys met values verbonden worden. Het kan gebruikt worden om eenvoudig\n",
    "# waarden geassocieerd met een naam op te slaan en op te vragen.\n",
    "# d = {key: value}\n",
    "d = {'twee': 2, 'een': 1, 3: 'drie'}\n",
    "print(d['een'])   # de waarde voor de key 'een' op vragen\n",
    "print(d[3])       # de waarde voor de key 3 opvragen. Bemerk dat dit niet locatie 3 is,\n",
    "                  # zoals je zou verwachten bij een lijst, want de locatie heeft geen\n",
    "                  # betekenis in een niet-geordende dictionary"
   ]
  },
  {
   "cell_type": "code",
   "execution_count": null,
   "metadata": {
    "collapsed": false
   },
   "outputs": [],
   "source": [
    "# indien je twijfelt met welk datatype je te maken hebt, kan je de functie type() uitvoeren op een object\n",
    "type(d)"
   ]
  },
  {
   "cell_type": "markdown",
   "metadata": {},
   "source": [
    "Onderstaande code maakt nu een variabele aan met als naam *data*, en maakt tenslotte een histogram van deze data met het commando **hist** uit het matplotlib.pyplot package (dat ingeladen werd onder de naam **plt**)"
   ]
  },
  {
   "cell_type": "code",
   "execution_count": null,
   "metadata": {
    "ExecuteTime": {
     "end_time": "2017-03-05T10:04:31.016230",
     "start_time": "2017-03-05T10:04:30.661514"
    },
    "collapsed": false
   },
   "outputs": [],
   "source": [
    "# Een klein voorbeeld: het opstellen van een histogram van een dataset (list van int)\n",
    "data = [1, 2 , 1, 4, 5, 2, 7, 9, 4, 5, 8, 2, 3, 1, 4, 2, 9, 3, 5]\n",
    "plt.hist(data, bins=12, cumulative=False, orientation='vertical')"
   ]
  },
  {
   "cell_type": "markdown",
   "metadata": {},
   "source": [
    "Omdat we de output van de functie **plt.hist()** niet opslaan in een variabele, wordt deze geprint naar het scherm. Merk op dat het commando **output = plt.hist(data, bins=12, cumulative=False, orientation='vertical')** dit niet veroorzaakt, omdat we nu een variabele meegeven waar de output mag naartoe geschreven worden. We kunnen dit printen naar het scherm ook onderdrukken door een **;** toe te voegen achteraan het commando: **plt.hist(data, bins=12, cumulative=False, orientation='vertical');**"
   ]
  },
  {
   "cell_type": "markdown",
   "metadata": {
    "slideshow": {
     "slide_type": "subslide"
    }
   },
   "source": [
    "Doorheen de lessen zul je steeds meer packages en commando's leren kennen. Het belangrijkste is echter dat je zelf op zoek kan gaan naar de informatie. Enkele belangrijke tips (probeer zelf eens op bovenstaande code):\n",
    "\n",
    "* De **TAB** toets na het ingeven van de (verkorte) naam van een package (bv. **plt.** en dan TAB de toets indrukken) geeft je de beschikbare mogelijkheden\n",
    "* De **SHIFT-TAB** combinatie is essentieel om informatie te verkrijgen over een net ingegeven functie (bv. **plt.hist(** en dan SHIFT+TAB indrukken) en geeft je de help-pagina voor die functie met de beschrijving van de elementen die je moet ingeven.\n",
    "* [Google](http://lmgtfy.com/) geeft meestal wel een antwoord op je vraag, maar [Stack Overflow](http://stackoverflow.com/questions/tagged/python) is er specifiek voor programmeervragen!"
   ]
  },
  {
   "cell_type": "markdown",
   "metadata": {
    "slideshow": {
     "slide_type": "slide"
    }
   },
   "source": [
    "## Functies"
   ]
  },
  {
   "cell_type": "markdown",
   "metadata": {},
   "source": [
    "Naast afzonderlijke bewerkingen, zijn ook functies essentieel bij wetenschappelijk programmeren. Het bakent een bepaalde functionaliteit af die je daarna zelf kan hergebruiken. Hierdoor wordt je onderzoek/werk reproduceerbaar voor anderen en jezelf. Belangrijk is ook dat je steeds zelf een help-tekst voorziet die aangeeft wat de functie doet en hoe je ze gebruikt. Deze help-tekst kan je met behulp van de hashtag ingeven, maar omdat deze tekst al snel lang wordt, wordt er afgesproken dit in een commentaarblok mee te geven, dat afgebakend wordt door 3 dubbele aanhalingstekens (\" \" \") om te openen, en 3 om te sluiten. Merk op dat deze tekst automatisch gemarkeerd wordt in rood."
   ]
  },
  {
   "cell_type": "markdown",
   "metadata": {},
   "source": [
    "Een voorbeeld van een (vrij eenvoudige) functie staat hieronder, die de oppervlakte van een rechthoek berekent bij een gegeven breedte en lengte. De eerste lijn is de functiedefinitielijn, die aangeeft dat we een functie willen beginnen (aangegeven door *def*), gevolgd door de functienaam (hier: *oppervlakteRechthoek*), gevolgd door de inputs van de functie tussen haakjes, gescheiden door komma's (hier: *breedte* en *lengte*). Na de help-tekst komen alle instructies die de input verwerken tot de output, en tot slot wordt de output weergegeven met het commando **return**. Merk op dat de indentatie (het inspringen) aangeeft dat al deze commando's onder de functie *oppervlakteRechthoek* vallen."
   ]
  },
  {
   "cell_type": "code",
   "execution_count": null,
   "metadata": {
    "ExecuteTime": {
     "end_time": "2017-03-05T10:04:50.728244",
     "start_time": "2017-03-05T10:04:50.723882"
    },
    "collapsed": false,
    "slideshow": {
     "slide_type": "subslide"
    }
   },
   "outputs": [],
   "source": [
    "def oppervlakteRechthoek(breedte, lengte):\n",
    "    \"\"\"\n",
    "    Functie die de oppervlakte berekent van een rechthoek\n",
    "    \n",
    "    Argumenten\n",
    "    ----------\n",
    "    breedte : float\n",
    "        De breedte van de rechthoek\n",
    "    lengte : float\n",
    "        De lengte van de rechthoek\n",
    "        \n",
    "    Output\n",
    "    ------\n",
    "    oppervlakte : float\n",
    "        De oppervlakte van de rechthoek\n",
    "    \"\"\"\n",
    "    oppervlakte = breedte*lengte\n",
    "    return oppervlakte"
   ]
  },
  {
   "cell_type": "markdown",
   "metadata": {},
   "source": [
    "Deze code voert echter niets uit, het bundelt alleen een aantal handelingen (in dit geval slechts 1) in een handig commando voor de gebruiker. Om dit beschikbaar te stellen, voer je éénmalig deze functiedefinitie uit, zodat je functie wordt opslagen in het geheugen. Vanaf nu kan je de functie oproepen m.b.v. zijn naam, zoveel je wenst:"
   ]
  },
  {
   "cell_type": "code",
   "execution_count": null,
   "metadata": {
    "ExecuteTime": {
     "end_time": "2017-03-05T10:04:54.075923",
     "start_time": "2017-03-05T10:04:54.071088"
    },
    "collapsed": false
   },
   "outputs": [],
   "source": [
    "oppervlakteRechthoek(3,4)"
   ]
  },
  {
   "cell_type": "code",
   "execution_count": null,
   "metadata": {
    "ExecuteTime": {
     "end_time": "2017-03-05T10:04:54.660188",
     "start_time": "2017-03-05T10:04:54.653495"
    },
    "collapsed": false
   },
   "outputs": [],
   "source": [
    "oppervlakteRechthoek(6,2.5)"
   ]
  },
  {
   "cell_type": "markdown",
   "metadata": {},
   "source": [
    "Deze functie is eigenlijk in wezen niet verschillend van de functies **print()** en **plt.hist()** die je eerder gebruikte. Ze is alleen door jezelf geschreven."
   ]
  },
  {
   "cell_type": "markdown",
   "metadata": {
    "collapsed": false,
    "slideshow": {
     "slide_type": "subslide"
    }
   },
   "source": [
    "Functies wordenpas echt handig wanneer meerdere en complexere commando's een mooi geheel vormen, en toegepast kunnen worden in verschillende situaties. Bestudeer even onderstaande functie:"
   ]
  },
  {
   "cell_type": "code",
   "execution_count": null,
   "metadata": {
    "ExecuteTime": {
     "end_time": "2017-03-05T10:05:02.867079",
     "start_time": "2017-03-05T10:05:02.862034"
    },
    "collapsed": true,
    "slideshow": {
     "slide_type": "subslide"
    }
   },
   "outputs": [],
   "source": [
    "def mijnDobbel(worpen):\n",
    "    \"\"\"\n",
    "    Functie die een histogram maakt van het aantal ogen,\n",
    "    na een gegeven aantal worpen met twee dobbelstenen.\n",
    "    \n",
    "    Argumenten\n",
    "    ----------\n",
    "    worpen : int\n",
    "        Aantal worpen met twee dobbelstenen\n",
    "    \"\"\"\n",
    "    steen1 = np.random.uniform(1, 6, worpen) # random resultaten van de eerste dobbelsteen\n",
    "    steen2 = np.random.uniform(1, 6, worpen) # random resultaten van de eerste dobbelsteen\n",
    "    ogen=steen1+steen2                       # resultaten van de worpen\n",
    "    myhist = plt.hist(ogen, bins=12)         # histogram van de worpen"
   ]
  },
  {
   "cell_type": "markdown",
   "metadata": {},
   "source": [
    "Om een experiment uit te voeren waarbij je 100 keer met een paar dobbelstenen gooit en de verdeling van de resultaten wil onderzoeken:"
   ]
  },
  {
   "cell_type": "code",
   "execution_count": null,
   "metadata": {
    "ExecuteTime": {
     "end_time": "2017-03-05T10:05:08.561062",
     "start_time": "2017-03-05T10:05:08.266928"
    },
    "collapsed": false,
    "slideshow": {
     "slide_type": "subslide"
    }
   },
   "outputs": [],
   "source": [
    "mijnDobbel(100)"
   ]
  },
  {
   "cell_type": "markdown",
   "metadata": {
    "slideshow": {
     "slide_type": "subslide"
    }
   },
   "source": [
    "Een functie accepteert dus input(s), en produceert output(s). Toch is geen van beide echt noodzakelijk. Je kan dit al opmerken bij de functie *mijnDobbel*, die geen **return** statement heeft, en dus technisch gezien ook geen output."
   ]
  },
  {
   "cell_type": "code",
   "execution_count": null,
   "metadata": {
    "ExecuteTime": {
     "end_time": "2017-03-05T10:05:11.785680",
     "start_time": "2017-03-05T10:05:11.780518"
    },
    "collapsed": false
   },
   "outputs": [],
   "source": [
    "def functie1(ikbeninput):\n",
    "    \"\"\"\n",
    "    Functie met 1 input, geen outputs\n",
    "    \"\"\"\n",
    "    print(ikbeninput)"
   ]
  },
  {
   "cell_type": "code",
   "execution_count": null,
   "metadata": {
    "ExecuteTime": {
     "end_time": "2017-03-05T10:05:18.915346",
     "start_time": "2017-03-05T10:05:18.911426"
    },
    "collapsed": true
   },
   "outputs": [],
   "source": [
    "def functie2():\n",
    "    \"\"\"\n",
    "    Functie zonder inputs, met één output\n",
    "    \"\"\"\n",
    "    return 'ikbenoutput'"
   ]
  },
  {
   "cell_type": "markdown",
   "metadata": {
    "slideshow": {
     "slide_type": "subslide"
    }
   },
   "source": [
    "---\n",
    "<h3><font color=\"#FFA500\">Opdracht</font></h3>\n",
    "\n",
    "Test onderstaande opdrachten één per één in de cel hieronder. Merk op dat sommige opdrachten een foutmelding kunnen geven. Probeer in dat geval de foutmelding te ontcijferen.\n",
    "* Wat gebeurt er indien je functie1 oproept met 1 input?\n",
    "* Wat gebeurt er indien je functie1 oproept zonder input?\n",
    "* Wat gebeurt er indien je functie2 oproept met 1 input?\n",
    "* Wat gebeurt er indien je functie2 oproept zonder input?\n",
    "* Wat gebeurt er indien je functie2 oproept als a=functie2()?"
   ]
  },
  {
   "cell_type": "code",
   "execution_count": null,
   "metadata": {
    "ExecuteTime": {
     "end_time": "2017-03-05T10:05:23.188709",
     "start_time": "2017-03-05T10:05:23.183831"
    },
    "collapsed": false,
    "slideshow": {
     "slide_type": "skip"
    }
   },
   "outputs": [],
   "source": [
    "# Test in deze cel je antwoorden (de tweede opdracht is hier als voorbeeld ingevuld)\n",
    "functie1()"
   ]
  },
  {
   "cell_type": "markdown",
   "metadata": {},
   "source": [
    "Je merkt dat sommige commando's uitmonden in een *error* boodschap. Dit is volkomen normaal wanneer je programmeert, het komt er alleen op aan de melding te lezen en te proberen begrijpen om het probleem te verhelpen.\n",
    "\n",
    "---"
   ]
  },
  {
   "cell_type": "markdown",
   "metadata": {
    "slideshow": {
     "slide_type": "slide"
    }
   },
   "source": [
    "# Interactiviteit via notebooks"
   ]
  },
  {
   "cell_type": "markdown",
   "metadata": {},
   "source": [
    "Notebooks maken het ook mogelijk om snel zaken interactief te maken op basis van de interact-functionaliteit. Hiervoor laden we eerst het juiste pakket in."
   ]
  },
  {
   "cell_type": "code",
   "execution_count": null,
   "metadata": {
    "ExecuteTime": {
     "end_time": "2017-03-05T10:05:34.969687",
     "start_time": "2017-03-05T10:05:34.966186"
    },
    "collapsed": false
   },
   "outputs": [],
   "source": [
    "from ipywidgets import interact, fixed"
   ]
  },
  {
   "cell_type": "code",
   "execution_count": null,
   "metadata": {
    "ExecuteTime": {
     "end_time": "2017-03-05T10:05:35.436832",
     "start_time": "2017-03-05T10:05:35.401057"
    },
    "collapsed": false
   },
   "outputs": [],
   "source": [
    "interact(oppervlakteRechthoek, breedte=fixed(3), lengte=(2, 50));"
   ]
  },
  {
   "cell_type": "markdown",
   "metadata": {
    "collapsed": true
   },
   "source": [
    "De echte meerwaarde zit hem echter in de interactiviteit van de plots:"
   ]
  },
  {
   "cell_type": "code",
   "execution_count": null,
   "metadata": {
    "ExecuteTime": {
     "end_time": "2017-03-05T10:05:44.411707",
     "start_time": "2017-03-05T10:05:44.097467"
    },
    "collapsed": false
   },
   "outputs": [],
   "source": [
    "interact(mijnDobbel, worpen=(20, 100));"
   ]
  },
  {
   "cell_type": "markdown",
   "metadata": {},
   "source": [
    "Tot slot kan een notebook opgeslaan worden (doe dit regelmatig indien je aanpassingen maakt), maar ook geëxporteerd worden als html, pdf of Python file (zie *File > Download as*). Pas tot slot deze notebook gerust aan naar je eigen noden, om er je eigen naslagwerk van te maken! Happy computing!"
   ]
  },
  {
   "cell_type": "markdown",
   "metadata": {},
   "source": [
    "# Extra informatie"
   ]
  },
  {
   "cell_type": "markdown",
   "metadata": {},
   "source": [
    "Wil je meer weten over de Python programmeertaal? Hieronder vind je enkele handige links die je op weg helpen:\n",
    "\n",
    "https://docs.python.org/3.6/tutorial/\n",
    "\n",
    "https://www.codecademy.com/learn/python\n",
    "\n",
    "http://docs.python-guide.org/en/latest/intro/learning/"
   ]
  }
 ],
 "metadata": {
  "anaconda-cloud": {},
  "hide_input": false,
  "kernelspec": {
   "display_name": "Python 3.4 (Anaconda)",
   "language": "python",
   "name": "anaconda34"
  },
  "language_info": {
   "codemirror_mode": {
    "name": "ipython",
    "version": 3
   },
   "file_extension": ".py",
   "mimetype": "text/x-python",
   "name": "python",
   "nbconvert_exporter": "python",
   "pygments_lexer": "ipython3",
   "version": "3.4.5"
  },
  "toc": {
   "toc_cell": true,
   "toc_number_sections": true,
   "toc_section_display": "none",
   "toc_threshold": 6,
   "toc_window_display": true
  }
 },
 "nbformat": 4,
 "nbformat_minor": 0
}
