{
 "cells": [
  {
   "cell_type": "markdown",
   "metadata": {},
   "source": [
    "## Model simuleren: Krachtenbalans"
   ]
  },
  {
   "cell_type": "markdown",
   "metadata": {},
   "source": [
    "$$\\frac{dx1}{dt}= x2$$\n",
    "\n",
    "$$\\frac{dx2}{dt}= -\\frac{b}{m}x2 -\\frac{k}{m}x1 + Fex$$"
   ]
  },
  {
   "cell_type": "code",
   "execution_count": 1,
   "metadata": {},
   "outputs": [],
   "source": [
    "%matplotlib inline"
   ]
  },
  {
   "cell_type": "code",
   "execution_count": 2,
   "metadata": {},
   "outputs": [],
   "source": [
    "# Importeren van functionaliteiten\n",
    "import matplotlib.pyplot as plt\n",
    "#import seaborn as sns\n",
    "import numpy as np\n",
    "import scipy as sp\n",
    "import pandas as pd\n",
    "from IPython.display import Image\n",
    "from ipywidgets import interact, fixed\n",
    "%load_ext autoreload\n",
    "%autoreload 1\n",
    "%aimport force\n",
    "#from populatie import populatie_model   # Importeren van de populatie functies"
   ]
  },
  {
   "cell_type": "markdown",
   "metadata": {},
   "source": [
    "#### Praktische info\n",
    "Functiedefinitie:\n",
    "\n",
    "    force.force_model(tijdstappen, x1_0, x2_0, b, m, k, Fex, returnDataFrame=True)\n",
    "\n",
    "Bij de standaard situatie voor onze case werden volgende waarden voor initiele condities, parameters en inputs gebruikt:\n",
    "\n",
    "    force.force_model(np.arange(0, 50, 0.1), -1, 0, 0.2, 1, 0.3, 0) "
   ]
  },
  {
   "cell_type": "markdown",
   "metadata": {},
   "source": [
    "## Model simuleren"
   ]
  },
  {
   "cell_type": "code",
   "execution_count": 3,
   "metadata": {},
   "outputs": [
    {
     "data": {
      "image/png": "[encoded data removed]",
      "text/plain": [
       "<matplotlib.figure.Figure at 0x7f638c9e1d68>"
      ]
     },
     "metadata": {},
     "output_type": "display_data"
    }
   ],
   "source": [
    "model = force.force_model(np.arange(0, 50, 0.1), -1, 0, 0.2, 1, 0.3, 0) "
   ]
  },
  {
   "cell_type": "markdown",
   "metadata": {},
   "source": [
    "$$\\frac{dx1}{dt}= x2$$\n",
    "\n",
    "$$\\frac{dx2}{dt}= -\\frac{b}{m}x2 -\\frac{k}{m}x1 + Fex$$"
   ]
  },
  {
   "cell_type": "markdown",
   "metadata": {},
   "source": [
    "## Impact initiële conditie en input"
   ]
  },
  {
   "cell_type": "code",
   "execution_count": 4,
   "metadata": {},
   "outputs": [
    {
     "data": {
      "application/vnd.jupyter.widget-view+json": {
       "model_id": "05cab981e9cd489d918f485089a829bb",
       "version_major": 2,
       "version_minor": 0
      },
      "text/html": [
       "<p>Failed to display Jupyter Widget of type <code>interactive</code>.</p>\n",
       "<p>\n",
       "  If you're reading this message in the Jupyter Notebook or JupyterLab Notebook, it may mean\n",
       "  that the widgets JavaScript is still loading. If this message persists, it\n",
       "  likely means that the widgets JavaScript library is either not installed or\n",
       "  not enabled. See the <a href=\"https://ipywidgets.readthedocs.io/en/stable/user_install.html\">Jupyter\n",
       "  Widgets Documentation</a> for setup instructions.\n",
       "</p>\n",
       "<p>\n",
       "  If you're reading this message in another frontend (for example, a static\n",
       "  rendering on GitHub or <a href=\"https://nbviewer.jupyter.org/\">NBViewer</a>),\n",
       "  it may mean that your frontend doesn't currently support widgets.\n",
       "</p>\n"
      ],
      "text/plain": [
       "interactive(children=(FloatSlider(value=-2.5, description='x1_0', max=0.0, min=-5.0), FloatSlider(value=0.5, description='x2_0', max=1.0), FloatSlider(value=5.0, description='Fex', max=10.0), Output()), _dom_classes=('widget-interact',))"
      ]
     },
     "metadata": {},
     "output_type": "display_data"
    }
   ],
   "source": [
    "interact(force.force_model, tijdstappen=fixed(np.arange(0., 50, 0.1)), x1_0=(-5., 0., 0.1), x2_0=(0.,1.,0.1), \n",
    "         b=fixed(0.2), m=fixed(1), k=fixed(0.3), Fex=(0,10,0.1), returnDataFrame=fixed(False));"
   ]
  },
  {
   "cell_type": "markdown",
   "metadata": {},
   "source": [
    "$$\\frac{dx1}{dt}= x2$$\n",
    "\n",
    "$$\\frac{dx2}{dt}= -\\frac{b}{m}x2 -\\frac{k}{m}x1 + Fex$$"
   ]
  },
  {
   "cell_type": "markdown",
   "metadata": {},
   "source": [
    "## Impact parameters"
   ]
  },
  {
   "cell_type": "code",
   "execution_count": 5,
   "metadata": {},
   "outputs": [
    {
     "data": {
      "application/vnd.jupyter.widget-view+json": {
       "model_id": "d228eaa70187452b8c62abceefaf08f0",
       "version_major": 2,
       "version_minor": 0
      },
      "text/html": [
       "<p>Failed to display Jupyter Widget of type <code>interactive</code>.</p>\n",
       "<p>\n",
       "  If you're reading this message in the Jupyter Notebook or JupyterLab Notebook, it may mean\n",
       "  that the widgets JavaScript is still loading. If this message persists, it\n",
       "  likely means that the widgets JavaScript library is either not installed or\n",
       "  not enabled. See the <a href=\"https://ipywidgets.readthedocs.io/en/stable/user_install.html\">Jupyter\n",
       "  Widgets Documentation</a> for setup instructions.\n",
       "</p>\n",
       "<p>\n",
       "  If you're reading this message in another frontend (for example, a static\n",
       "  rendering on GitHub or <a href=\"https://nbviewer.jupyter.org/\">NBViewer</a>),\n",
       "  it may mean that your frontend doesn't currently support widgets.\n",
       "</p>\n"
      ],
      "text/plain": [
       "interactive(children=(FloatSlider(value=0.25, description='b', max=0.5, step=0.01), FloatSlider(value=2.5, description='m', max=5.0), FloatSlider(value=0.5, description='k', max=1.0), Output()), _dom_classes=('widget-interact',))"
      ]
     },
     "metadata": {},
     "output_type": "display_data"
    }
   ],
   "source": [
    "interact(force.force_model, tijdstappen=fixed(np.arange(0., 50, 0.1)), x1_0=fixed(-1), x2_0=fixed(0), \n",
    "         b=(0., 0.5, 0.01), m=(0. ,5. ,0.1), k=(0., 1., 0.1), Fex=fixed(0), returnDataFrame=fixed(False));"
   ]
  },
  {
   "cell_type": "markdown",
   "metadata": {},
   "source": [
    "$$\\frac{dx1}{dt}= x2$$\n",
    "\n",
    "$$\\frac{dx2}{dt}= -\\frac{b}{m}x2 -\\frac{k}{m}x1 + Fex$$"
   ]
  },
  {
   "cell_type": "code",
   "execution_count": null,
   "metadata": {},
   "outputs": [],
   "source": []
  }
 ],
 "metadata": {
  "kernelspec": {
   "display_name": "Python 3",
   "language": "python",
   "name": "python3"
  },
  "language_info": {
   "codemirror_mode": {
    "name": "ipython",
    "version": 3
   },
   "file_extension": ".py",
   "mimetype": "text/x-python",
   "name": "python",
   "nbconvert_exporter": "python",
   "pygments_lexer": "ipython3",
   "version": "3.6.3"
  }
 },
 "nbformat": 4,
 "nbformat_minor": 1
}
